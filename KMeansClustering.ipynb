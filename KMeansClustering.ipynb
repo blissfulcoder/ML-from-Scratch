{
 "cells": [
  {
   "cell_type": "code",
   "execution_count": 1,
   "metadata": {},
   "outputs": [],
   "source": [
    "import numpy as np\n",
    "import matplotlib.pyplot as plt\n",
    "%matplotlib inline"
   ]
  },
  {
   "cell_type": "code",
   "execution_count": 6,
   "metadata": {},
   "outputs": [
    {
     "name": "stdout",
     "output_type": "stream",
     "text": [
      "(500L, 2L) (500L, 2L)\n"
     ]
    }
   ],
   "source": [
    "## Define a dataset\n",
    "mean_01=np.array([1.0,0.5])\n",
    "cov_01=np.array([[1.0,0.1],[0.1,1.2]])\n",
    "\n",
    "mean_02=np.array([5.3,6.5])\n",
    "cov_02=np.array([[1.0,0.1],[0.1,1.2]])\n",
    "\n",
    "dist_01=np.random.multivariate_normal(mean_01, cov_01, 500)\n",
    "dist_02=np.random.multivariate_normal(mean_02, cov_02, 500)\n",
    "\n",
    "print dist_01.shape,dist_02.shape"
   ]
  },
  {
   "cell_type": "code",
   "execution_count": 7,
   "metadata": {},
   "outputs": [
    {
     "data": {
      "image/png": "[encoded data removed]",
      "text/plain": [
       "<matplotlib.figure.Figure at 0xe1d8390>"
      ]
     },
     "metadata": {},
     "output_type": "display_data"
    }
   ],
   "source": [
    "plt.scatter(dist_01[:,0], dist_01[:,1],color='red')\n",
    "plt.scatter(dist_02[:,0], dist_02[:,1],color='blue')\n",
    "plt.show()"
   ]
  },
  {
   "cell_type": "code",
   "execution_count": 13,
   "metadata": {},
   "outputs": [
    {
     "name": "stdout",
     "output_type": "stream",
     "text": [
      "(1000L, 2L)\n",
      "-3.0526744305654008 9.65433308828184\n"
     ]
    }
   ],
   "source": [
    "#Input data :- (dist_01.shape[0]+dist_02.shape[0], #num features)\n",
    "data=np.concatenate((dist_01,dist_02))\n",
    "print data.shape\n",
    "\n",
    "print data.min(), data.max()"
   ]
  },
  {
   "cell_type": "code",
   "execution_count": 12,
   "metadata": {},
   "outputs": [
    {
     "name": "stdout",
     "output_type": "stream",
     "text": [
      "(1000L, 2L)\n",
      "(500L, 4L)\n"
     ]
    }
   ],
   "source": [
    "temp=np.vstack((dist_01,dist_02))\n",
    "print temp.shape\n",
    "\n",
    "random_temp=np.hstack((dist_01,dist_02))\n",
    "print random_temp.shape\n",
    "\n",
    "## much more functionalities.."
   ]
  },
  {
   "cell_type": "code",
   "execution_count": 14,
   "metadata": {},
   "outputs": [],
   "source": [
    "## Try taking mean values with large magnitudes like 10000,0.5 etc. so then need\n",
    "## feature scaling for it : normalize dataset : simply devide my maximum value.. decently scaling is done then.."
   ]
  },
  {
   "cell_type": "code",
   "execution_count": 19,
   "metadata": {},
   "outputs": [],
   "source": [
    "## KMeans Clustering -> Parameter definition..\n",
    "K=4 # Number of clusters\n",
    "clusters ={}\n",
    "for cx in range(K):\n",
    "    params= {\n",
    "        'centroid': np.random.uniform(data.min(),data.max(),(data.shape[1],)),\n",
    "        'history':[], # history of cluster locations\n",
    "        'points':[], # points in the cluster -> for centroid recalculations..\n",
    "    }\n",
    "    clusters[cx]=params\n",
    "\n",
    "colors=['yellow','red','cyan','green']"
   ]
  },
  {
   "cell_type": "code",
   "execution_count": 20,
   "metadata": {},
   "outputs": [
    {
     "data": {
      "text/plain": [
       "1.4142135623730951"
      ]
     },
     "execution_count": 20,
     "metadata": {},
     "output_type": "execute_result"
    }
   ],
   "source": [
    "#Defining a distance function\n",
    "def distance(p1,p2):\n",
    "    '''Euclidian Distance'''\n",
    "    return np.sqrt(((p1-p2)**2).sum())\n",
    "\n",
    "distance(np.array([0.0,0.0]),np.array([1.0,1.0]))"
   ]
  },
  {
   "cell_type": "code",
   "execution_count": null,
   "metadata": {},
   "outputs": [],
   "source": [
    "## Execution logic\n",
    "for ix in range(data.shape[0])"
   ]
  },
  {
   "cell_type": "code",
   "execution_count": 21,
   "metadata": {},
   "outputs": [],
   "source": [
    "np.random.uniform?"
   ]
  },
  {
   "cell_type": "code",
   "execution_count": 25,
   "metadata": {},
   "outputs": [
    {
     "name": "stdout",
     "output_type": "stream",
     "text": [
      "[0. 0.]\n",
      "---\n",
      "[[0.]\n",
      " [0.]]\n"
     ]
    }
   ],
   "source": [
    "print np.zeros((2,)) ## Row vector\n",
    "print \"---\"\n",
    "print np.zeros((2,1))"
   ]
  },
  {
   "cell_type": "code",
   "execution_count": null,
   "metadata": {},
   "outputs": [],
   "source": []
  }
 ],
 "metadata": {
  "kernelspec": {
   "display_name": "Python 2",
   "language": "python",
   "name": "python2"
  },
  "language_info": {
   "codemirror_mode": {
    "name": "ipython",
    "version": 2
   },
   "file_extension": ".py",
   "mimetype": "text/x-python",
   "name": "python",
   "nbconvert_exporter": "python",
   "pygments_lexer": "ipython2",
   "version": "2.7.14"
  }
 },
 "nbformat": 4,
 "nbformat_minor": 2
}
