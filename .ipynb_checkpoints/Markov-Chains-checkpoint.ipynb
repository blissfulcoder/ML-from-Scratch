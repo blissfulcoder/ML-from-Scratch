{
 "cells": [
  {
   "cell_type": "code",
   "execution_count": 15,
   "metadata": {},
   "outputs": [],
   "source": [
    "import numpy as np\n",
    "import re # for regular expression, in interviews automata ques. directly eg. \n",
    "#compiler type ques.. etc..\n",
    "import random\n",
    "import matplotlib.pyplot as plt\n",
    "%matplotlib inline "
   ]
  },
  {
   "cell_type": "code",
   "execution_count": 18,
   "metadata": {},
   "outputs": [],
   "source": [
    "f = open('d:/ML--perceptron/data/cano.txt')\n",
    "ds = f.read()\n",
    "f.close()"
   ]
  },
  {
   "cell_type": "code",
   "execution_count": 45,
   "metadata": {},
   "outputs": [],
   "source": [
    "start = 2600\n",
    "length = 50000\n",
    "data=' '.join([ix.strip() for ix in ds[start:start+length].split('\\n')]).lower()\n",
    "# it splits about \\n i.e eof makes a list of all words, ix takes that word,\n",
    "# strips remove white spaces.. and then all are joined with spaces.."
   ]
  },
  {
   "cell_type": "code",
   "execution_count": 46,
   "metadata": {},
   "outputs": [
    {
     "name": "stdout",
     "output_type": "stream",
     "text": [
      "45717\n"
     ]
    }
   ],
   "source": [
    "print (len(data))"
   ]
  },
  {
   "cell_type": "code",
   "execution_count": 47,
   "metadata": {},
   "outputs": [],
   "source": [
    "T = {} #transition matrix..\n",
    "\n",
    "##order for our markov chain :\n",
    "order = 3\n",
    "for cx in range(len(data)-order):\n",
    "    \n",
    "    ##contextual information\n",
    "    cntx = data[cx:cx+order]\n",
    "    future_val = data[cx+order]\n",
    "    if T.get(cntx) is None:\n",
    "        T[cntx] = {} #new dictionary..\n",
    "        T[cntx][future_val]=1 #dictionary of dictionary..\n",
    "    else:\n",
    "        if T[cntx].get(future_val) is None:\n",
    "            T[cntx][future_val] = 1\n",
    "        else:\n",
    "            T[cntx][future_val] = T[cntx][future_val] + 1\n",
    "    "
   ]
  },
  {
   "cell_type": "code",
   "execution_count": 56,
   "metadata": {},
   "outputs": [
    {
     "name": "stdout",
     "output_type": "stream",
     "text": [
      "3784\n"
     ]
    }
   ],
   "source": [
    "count = 0\n",
    "print(len(T.keys()))\n",
    "for kx in T.keys():\n",
    "    possible =T[kx]\n",
    "    s = float(sum(possible.values()))\n",
    "    #if count>5:\n",
    "        #break\n",
    "    count+=1\n",
    "    #print(kx, \"--\", possible,s)\n",
    "    for k in possible.keys():\n",
    "        T[kx][k] = T[kx][k]/s\n",
    "    #print(kx, \"--\",T[kx], \"--\", s)\n",
    "    #print(\"------\")"
   ]
  },
  {
   "cell_type": "code",
   "execution_count": 57,
   "metadata": {},
   "outputs": [],
   "source": [
    "## finish this later on ---> "
   ]
  },
  {
   "cell_type": "code",
   "execution_count": 58,
   "metadata": {},
   "outputs": [],
   "source": [
    "## most basic markov chain, not absorbing etc.."
   ]
  },
  {
   "cell_type": "code",
   "execution_count": null,
   "metadata": {},
   "outputs": [],
   "source": []
  }
 ],
 "metadata": {
  "kernelspec": {
   "display_name": "Python 3",
   "language": "python",
   "name": "python3"
  },
  "language_info": {
   "codemirror_mode": {
    "name": "ipython",
    "version": 3
   },
   "file_extension": ".py",
   "mimetype": "text/x-python",
   "name": "python",
   "nbconvert_exporter": "python",
   "pygments_lexer": "ipython3",
   "version": "3.6.3"
  }
 },
 "nbformat": 4,
 "nbformat_minor": 2
}
