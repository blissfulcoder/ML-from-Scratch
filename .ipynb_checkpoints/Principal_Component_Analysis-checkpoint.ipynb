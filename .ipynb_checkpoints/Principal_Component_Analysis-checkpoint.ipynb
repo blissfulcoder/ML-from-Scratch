{
 "cells": [
  {
   "cell_type": "code",
   "execution_count": 1,
   "metadata": {},
   "outputs": [],
   "source": [
    "import numpy as np\n",
    "import matplotlib.pyplot as plt\n",
    "%matplotlib inline\n",
    "import pandas as pd"
   ]
  },
  {
   "cell_type": "code",
   "execution_count": 2,
   "metadata": {},
   "outputs": [
    {
     "name": "stdout",
     "output_type": "stream",
     "text": [
      "(800, 2)\n"
     ]
    },
    {
     "name": "stderr",
     "output_type": "stream",
     "text": [
      "c:\\python\\python36\\lib\\site-packages\\ipykernel_launcher.py:5: RuntimeWarning: covariance is not positive-semidefinite.\n",
      "  \"\"\"\n"
     ]
    }
   ],
   "source": [
    "#Generate dataset and center it\n",
    "mean_01 = np.array([0.0,0.0])\n",
    "cov_01 = np.array([[1.2, 1.5], [1.5, 1.4]])\n",
    "\n",
    "data = np.random.multivariate_normal(mean_01,cov_01, 800)\n",
    "print(data.shape)"
   ]
  },
  {
   "cell_type": "code",
   "execution_count": 14,
   "metadata": {},
   "outputs": [],
   "source": [
    "def pca(X, m=None):\n",
    "    if m == None:\n",
    "        m = X.shape[1] ## m==d\n",
    "    \n",
    "    ## Compute the coviarance matrix:\n",
    "    A = np.cov(X.T)\n",
    "    \n",
    "    ##EigenValues and Eigenvectors -> Principal components and their variability.\n",
    "    eig_vals, eig_vecs = np.linalg.eig(A)\n",
    "    \n",
    "    ##Projection of points to new coordinates\n",
    "    Z=X.dot(eig_vecs)\n",
    "    \n",
    "    return eig_vals, eig_vecs, Z"
   ]
  },
  {
   "cell_type": "code",
   "execution_count": 15,
   "metadata": {},
   "outputs": [
    {
     "name": "stdout",
     "output_type": "stream",
     "text": [
      "(800, 2)\n",
      "(2, 800)\n",
      "(2, 2)\n",
      "(800, 800)\n"
     ]
    }
   ],
   "source": [
    "print (data.shape)\n",
    "print(data.T.shape)\n",
    "print(np.cov(data.T).shape)\n",
    "print(np.cov(data).shape)"
   ]
  },
  {
   "cell_type": "code",
   "execution_count": 16,
   "metadata": {},
   "outputs": [
    {
     "name": "stdout",
     "output_type": "stream",
     "text": [
      "(2,)\n",
      "(2, 2)\n",
      "(800, 2)\n",
      "[0.1858089 2.7195026]\n",
      "[[-0.73196754 -0.6813395 ]\n",
      " [ 0.6813395  -0.73196754]]\n",
      "----\n",
      "[-0.73196754 -0.6813395 ]\n"
     ]
    }
   ],
   "source": [
    "eig_vals, eig_vecs, Z = pca(data)\n",
    "print (eig_vals.shape)\n",
    "print (eig_vecs.shape)\n",
    "print (Z.shape)\n",
    "\n",
    "print (eig_vals)\n",
    "print (eig_vecs)\n",
    "print(\"----\")\n",
    "print (eig_vecs[0])"
   ]
  },
  {
   "cell_type": "code",
   "execution_count": 17,
   "metadata": {},
   "outputs": [
    {
     "name": "stdout",
     "output_type": "stream",
     "text": [
      "[[0.18580890052622046, array([-0.73196754,  0.6813395 ])], [2.719502599478097, array([-0.6813395 , -0.73196754])]]\n",
      "----\n",
      "2\n"
     ]
    }
   ],
   "source": [
    "info = []\n",
    "for ix in range(eig_vals.shape[0]):\n",
    "    dx = [eig_vals[ix], eig_vecs[:, ix]]\n",
    "    info.append(dx)\n",
    "print (info)\n",
    "print (\"----\")\n",
    "print (len(info))"
   ]
  },
  {
   "cell_type": "code",
   "execution_count": 18,
   "metadata": {},
   "outputs": [
    {
     "name": "stdout",
     "output_type": "stream",
     "text": [
      "[[2.719502599478097, array([-0.6813395 , -0.73196754])], [0.18580890052622046, array([-0.73196754,  0.6813395 ])]]\n"
     ]
    }
   ],
   "source": [
    "info = sorted(info, key=lambda z:z[0], reverse= True)\n",
    "print (info)"
   ]
  },
  {
   "cell_type": "code",
   "execution_count": 19,
   "metadata": {},
   "outputs": [],
   "source": [
    "sorted_vals = []\n",
    "sorted_vecs= []\n",
    "for ix in range(len(info)):\n",
    "    sorted_vals.append(info[ix][0])\n",
    "    sorted_vecs.append(info[ix][1])\n",
    "\n",
    "sorted_vals = np.asarray(sorted_vals)\n",
    "sorted_vecs = np.asarray(sorted_vecs)"
   ]
  },
  {
   "cell_type": "code",
   "execution_count": 20,
   "metadata": {},
   "outputs": [
    {
     "name": "stdout",
     "output_type": "stream",
     "text": [
      "[0.9360451 0.0639549]\n"
     ]
    }
   ],
   "source": [
    "explained_variances_ratio = sorted_vals/sum(sorted_vals)\n",
    "print (explained_variances_ratio)"
   ]
  },
  {
   "cell_type": "code",
   "execution_count": 21,
   "metadata": {},
   "outputs": [],
   "source": [
    "# On MNIST data"
   ]
  },
  {
   "cell_type": "code",
   "execution_count": 22,
   "metadata": {},
   "outputs": [
    {
     "name": "stdout",
     "output_type": "stream",
     "text": [
      "(10000, 784)\n"
     ]
    }
   ],
   "source": [
    "data = pd.read_csv(\"d:/ML--perceptron/mnist/train.csv\").values[:10000, 1:]\n",
    "print(data.shape)"
   ]
  },
  {
   "cell_type": "code",
   "execution_count": 23,
   "metadata": {},
   "outputs": [
    {
     "name": "stdout",
     "output_type": "stream",
     "text": [
      "(784,)\n",
      "(784, 784)\n",
      "(10000, 784)\n"
     ]
    }
   ],
   "source": [
    "eig_vals, eig_vecs, Z = pca(data)\n",
    "print(eig_vals.shape)\n",
    "print(eig_vecs.shape)\n",
    "print(Z.shape)"
   ]
  },
  {
   "cell_type": "code",
   "execution_count": 24,
   "metadata": {},
   "outputs": [
    {
     "name": "stdout",
     "output_type": "stream",
     "text": [
      "----\n",
      "784\n"
     ]
    }
   ],
   "source": [
    "info = []\n",
    "for ix in range(eig_vals.shape[0]):\n",
    "    dx = [eig_vals[ix], eig_vecs[:, ix]]\n",
    "    info.append(dx)\n",
    "#print (info)\n",
    "print (\"----\")\n",
    "print (len(info))"
   ]
  },
  {
   "cell_type": "code",
   "execution_count": 25,
   "metadata": {},
   "outputs": [],
   "source": [
    "info = sorted(info, key=lambda z:z[0], reverse= True)"
   ]
  },
  {
   "cell_type": "code",
   "execution_count": 26,
   "metadata": {},
   "outputs": [],
   "source": [
    "sorted_vals = []\n",
    "sorted_vecs= []\n",
    "for ix in range(len(info)):\n",
    "    sorted_vals.append(info[ix][0])\n",
    "    sorted_vecs.append(info[ix][1])\n",
    "\n",
    "sorted_vals = np.asarray(sorted_vals)\n",
    "sorted_vecs = np.asarray(sorted_vecs)"
   ]
  },
  {
   "cell_type": "code",
   "execution_count": 27,
   "metadata": {},
   "outputs": [
    {
     "name": "stdout",
     "output_type": "stream",
     "text": [
      "(784,)\n",
      "(784, 784)\n",
      "784\n"
     ]
    }
   ],
   "source": [
    "print (sorted_vals.shape)\n",
    "print (sorted_vecs.shape)\n",
    "explained_variances_ratio = sorted_vals/sum(sorted_vals)\n",
    "print (len(explained_variances_ratio))"
   ]
  },
  {
   "cell_type": "code",
   "execution_count": 28,
   "metadata": {},
   "outputs": [
    {
     "data": {
      "image/png": "[encoded data removed]",
      "text/plain": [
       "<matplotlib.figure.Figure at 0x1f0a80b80f0>"
      ]
     },
     "metadata": {},
     "output_type": "display_data"
    }
   ],
   "source": [
    "plt.plot(np.cumsum(explained_variances_ratio)/explained_variances_ratio.sum())\n",
    "plt.show()"
   ]
  },
  {
   "cell_type": "code",
   "execution_count": null,
   "metadata": {},
   "outputs": [],
   "source": []
  }
 ],
 "metadata": {
  "kernelspec": {
   "display_name": "Python 3",
   "language": "python",
   "name": "python3"
  },
  "language_info": {
   "codemirror_mode": {
    "name": "ipython",
    "version": 3
   },
   "file_extension": ".py",
   "mimetype": "text/x-python",
   "name": "python",
   "nbconvert_exporter": "python",
   "pygments_lexer": "ipython3",
   "version": "3.6.3"
  }
 },
 "nbformat": 4,
 "nbformat_minor": 2
}
