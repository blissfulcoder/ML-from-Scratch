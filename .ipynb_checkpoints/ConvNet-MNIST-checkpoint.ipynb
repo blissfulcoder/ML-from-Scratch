{
 "cells": [
  {
   "cell_type": "code",
   "execution_count": 2,
   "metadata": {},
   "outputs": [],
   "source": [
    "import numpy as np\n",
    "from keras.utils import np_utils\n",
    "from keras.models import Sequential\n",
    "from keras.layers import Convolution2D, Dense, Activation, Dropout, Flatten, MaxPooling2D"
   ]
  },
  {
   "cell_type": "code",
   "execution_count": 3,
   "metadata": {},
   "outputs": [],
   "source": [
    "import pandas as pd"
   ]
  },
  {
   "cell_type": "code",
   "execution_count": 4,
   "metadata": {},
   "outputs": [
    {
     "name": "stdout",
     "output_type": "stream",
     "text": [
      "(3500, 785)\n"
     ]
    }
   ],
   "source": [
    "ds = pd.read_csv('D:/ML--perceptron/mnist/train.csv')\n",
    "data = ds.values[1000:4500]\n",
    "print (data.shape)"
   ]
  },
  {
   "cell_type": "code",
   "execution_count": 5,
   "metadata": {},
   "outputs": [
    {
     "name": "stdout",
     "output_type": "stream",
     "text": [
      "[0 1 2 3 4 5 6 7 8 9]\n",
      "(3500, 10)\n"
     ]
    }
   ],
   "source": [
    "X = data[:, 1:]\n",
    "y = data[:, 0]\n",
    "Y = np_utils.to_categorical(y)\n",
    "print (np.unique(y))\n",
    "print (Y.shape)"
   ]
  },
  {
   "cell_type": "code",
   "execution_count": 9,
   "metadata": {},
   "outputs": [
    {
     "name": "stdout",
     "output_type": "stream",
     "text": [
      "_________________________________________________________________\n",
      "Layer (type)                 Output Shape              Param #   \n",
      "=================================================================\n",
      "conv2d_6 (Conv2D)            (None, 26, 26, 32)        320       \n",
      "_________________________________________________________________\n",
      "activation_5 (Activation)    (None, 26, 26, 32)        0         \n",
      "_________________________________________________________________\n",
      "conv2d_7 (Conv2D)            (None, 24, 24, 13)        3757      \n",
      "_________________________________________________________________\n",
      "activation_6 (Activation)    (None, 24, 24, 13)        0         \n",
      "_________________________________________________________________\n",
      "max_pooling2d_2 (MaxPooling2 (None, 12, 12, 13)        0         \n",
      "_________________________________________________________________\n",
      "conv2d_8 (Conv2D)            (None, 10, 10, 8)         944       \n",
      "_________________________________________________________________\n",
      "activation_7 (Activation)    (None, 10, 10, 8)         0         \n",
      "_________________________________________________________________\n",
      "flatten_1 (Flatten)          (None, 800)               0         \n",
      "_________________________________________________________________\n",
      "dense_1 (Dense)              (None, 10)                8010      \n",
      "_________________________________________________________________\n",
      "activation_8 (Activation)    (None, 10)                0         \n",
      "=================================================================\n",
      "Total params: 13,031\n",
      "Trainable params: 13,031\n",
      "Non-trainable params: 0\n",
      "_________________________________________________________________\n"
     ]
    },
    {
     "name": "stderr",
     "output_type": "stream",
     "text": [
      "c:\\python\\python36\\lib\\site-packages\\ipykernel_launcher.py:3: UserWarning: Update your `Conv2D` call to the Keras 2 API: `Conv2D(32, (3, 3), input_shape=(28, 28, 1...)`\n",
      "  This is separate from the ipykernel package so we can avoid doing imports until\n",
      "c:\\python\\python36\\lib\\site-packages\\ipykernel_launcher.py:7: UserWarning: Update your `Conv2D` call to the Keras 2 API: `Conv2D(13, (3, 3))`\n",
      "  import sys\n",
      "c:\\python\\python36\\lib\\site-packages\\ipykernel_launcher.py:14: UserWarning: Update your `Conv2D` call to the Keras 2 API: `Conv2D(8, (3, 3))`\n",
      "  \n"
     ]
    }
   ],
   "source": [
    "model = Sequential()\n",
    "## Convolution--Block 1:\n",
    "model.add(Convolution2D(32,3,3, input_shape=(28,28,1)))\n",
    "model.add(Activation('relu'))\n",
    "\n",
    "## Convolution--Block 2 -> (b,26,26,32)\n",
    "model.add(Convolution2D(13,3,3))\n",
    "model.add(Activation('relu'))\n",
    "\n",
    "##Maxpooling Layer :- To Downsample ## (b,24,24,16)\n",
    "model.add(MaxPooling2D(pool_size=(2,2)))\n",
    "\n",
    "## Convolution Block 3: (b,12,12,16)\n",
    "model.add(Convolution2D(8,3,3))\n",
    "model.add(Activation('relu'))\n",
    "\n",
    "## Shape: (b,10,10,8)\n",
    "## Flatten\n",
    "model.add(Flatten())\n",
    "\n",
    "## Shape :- (b,800)\n",
    "\n",
    "model.add(Dense(10))\n",
    "model.add(Activation('softmax'))\n",
    "\n",
    "model.summary()"
   ]
  },
  {
   "cell_type": "code",
   "execution_count": 10,
   "metadata": {},
   "outputs": [],
   "source": [
    "## only 14,000 parameters instead of millions of paramters in fully connected."
   ]
  },
  {
   "cell_type": "code",
   "execution_count": 11,
   "metadata": {},
   "outputs": [],
   "source": [
    "model.compile(loss='categorical_crossentropy',optimizer='adam',metrics=['accuracy'])"
   ]
  },
  {
   "cell_type": "code",
   "execution_count": 16,
   "metadata": {},
   "outputs": [
    {
     "name": "stdout",
     "output_type": "stream",
     "text": [
      "(2800, 28, 28, 1)\n",
      "(700, 28, 28, 1)\n"
     ]
    }
   ],
   "source": [
    "X_train = X[:split].reshape((X[:split].shape[0],28,28,1))\n",
    "print (X_train.shape)\n",
    "X_test = X[split:].reshape((X[split:].shape[0],28,28,1))\n",
    "print (X_test.shape)"
   ]
  },
  {
   "cell_type": "code",
   "execution_count": null,
   "metadata": {},
   "outputs": [],
   "source": [
    "split = int(0.8*X.shape[0])\n",
    "hist=model.fit(X_train, Y[:split], nb_epoch=20, batch_size=16,validation_data=[X_test,y[split:]], verbose=2)"
   ]
  }
 ],
 "metadata": {
  "kernelspec": {
   "display_name": "Python 3",
   "language": "python",
   "name": "python3"
  },
  "language_info": {
   "codemirror_mode": {
    "name": "ipython",
    "version": 3
   },
   "file_extension": ".py",
   "mimetype": "text/x-python",
   "name": "python",
   "nbconvert_exporter": "python",
   "pygments_lexer": "ipython3",
   "version": "3.6.3"
  }
 },
 "nbformat": 4,
 "nbformat_minor": 2
}
