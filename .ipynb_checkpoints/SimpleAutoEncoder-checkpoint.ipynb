{
 "cells": [
  {
   "cell_type": "code",
   "execution_count": 20,
   "metadata": {},
   "outputs": [],
   "source": [
    "import numpy as np\n",
    "from keras.layers import Input,Dense,Activation\n",
    "from keras.models import Model\n",
    "from keras.utils import np_utils\n",
    "import pandas as pd\n",
    "#dropout is method to reduce overfitting..it does increase accuracy.."
   ]
  },
  {
   "cell_type": "code",
   "execution_count": 21,
   "metadata": {},
   "outputs": [
    {
     "name": "stdout",
     "output_type": "stream",
     "text": [
      "(4500, 784)\n"
     ]
    }
   ],
   "source": [
    "ds = pd.read_csv(\"d:/ML--perceptron/mnist/train.csv\")\n",
    "data=ds.values[100:4600,1:]/255.0 #dont need label as performing unsupervised exp..\n",
    "print (data.shape)"
   ]
  },
  {
   "cell_type": "code",
   "execution_count": 22,
   "metadata": {},
   "outputs": [],
   "source": [
    "inp = Input(shape=(784,))\n",
    "h1 = Dense(100)\n",
    "a1 = Activation('sigmoid') ##a1 pointer to such class(activation)\n",
    "y = Dense(784)\n",
    "ya = Activation('sigmoid')\n",
    "\n",
    "yout = ya(y(a1(h1(inp))))\n",
    "model = Model(inputs=[inp], outputs=[yout])\n",
    "#model.summary()\n",
    "#print(h1)\n",
    "#print(\"---\")\n",
    "#print(y)\n",
    "\n",
    "#dropout is good in classification problems.. to get rid of rigid patterns.."
   ]
  },
  {
   "cell_type": "code",
   "execution_count": 23,
   "metadata": {},
   "outputs": [],
   "source": [
    "model.compile(optimizer='adam',loss='MSE',metrics=['accuracy'])"
   ]
  },
  {
   "cell_type": "code",
   "execution_count": 24,
   "metadata": {},
   "outputs": [],
   "source": [
    "split = int(0.8*data.shape[0])"
   ]
  },
  {
   "cell_type": "code",
   "execution_count": 31,
   "metadata": {},
   "outputs": [
    {
     "name": "stderr",
     "output_type": "stream",
     "text": [
      "c:\\python\\python36\\lib\\site-packages\\ipykernel_launcher.py:1: UserWarning: The `nb_epoch` argument in `fit` has been renamed `epochs`.\n",
      "  \"\"\"Entry point for launching an IPython kernel.\n"
     ]
    },
    {
     "name": "stdout",
     "output_type": "stream",
     "text": [
      "Train on 3600 samples, validate on 900 samples\n",
      "Epoch 1/60\n",
      " - 1s - loss: 0.0847 - acc: 0.0075 - val_loss: 0.0682 - val_acc: 0.0033\n",
      "Epoch 2/60\n",
      " - 1s - loss: 0.0668 - acc: 0.0117 - val_loss: 0.0644 - val_acc: 0.0111\n",
      "Epoch 3/60\n",
      " - 1s - loss: 0.0615 - acc: 0.0186 - val_loss: 0.0581 - val_acc: 0.0100\n",
      "Epoch 4/60\n",
      " - 1s - loss: 0.0550 - acc: 0.0161 - val_loss: 0.0517 - val_acc: 0.0167\n",
      "Epoch 5/60\n",
      " - 1s - loss: 0.0494 - acc: 0.0158 - val_loss: 0.0469 - val_acc: 0.0133\n",
      "Epoch 6/60\n",
      " - 1s - loss: 0.0452 - acc: 0.0164 - val_loss: 0.0431 - val_acc: 0.0144\n",
      "Epoch 7/60\n",
      " - 1s - loss: 0.0417 - acc: 0.0142 - val_loss: 0.0401 - val_acc: 0.0178\n",
      "Epoch 8/60\n",
      " - 1s - loss: 0.0388 - acc: 0.0139 - val_loss: 0.0374 - val_acc: 0.0167\n",
      "Epoch 9/60\n",
      " - 1s - loss: 0.0362 - acc: 0.0122 - val_loss: 0.0351 - val_acc: 0.0144\n",
      "Epoch 10/60\n",
      " - 1s - loss: 0.0340 - acc: 0.0131 - val_loss: 0.0329 - val_acc: 0.0122\n",
      "Epoch 11/60\n",
      " - 1s - loss: 0.0319 - acc: 0.0139 - val_loss: 0.0311 - val_acc: 0.0133\n",
      "Epoch 12/60\n",
      " - 1s - loss: 0.0301 - acc: 0.0111 - val_loss: 0.0294 - val_acc: 0.0111\n",
      "Epoch 13/60\n",
      " - 1s - loss: 0.0285 - acc: 0.0100 - val_loss: 0.0280 - val_acc: 0.0067\n",
      "Epoch 14/60\n",
      " - 1s - loss: 0.0271 - acc: 0.0108 - val_loss: 0.0267 - val_acc: 0.0089\n",
      "Epoch 15/60\n",
      " - 1s - loss: 0.0258 - acc: 0.0097 - val_loss: 0.0255 - val_acc: 0.0078\n",
      "Epoch 16/60\n",
      " - 1s - loss: 0.0246 - acc: 0.0128 - val_loss: 0.0244 - val_acc: 0.0078\n",
      "Epoch 17/60\n",
      " - 1s - loss: 0.0235 - acc: 0.0122 - val_loss: 0.0234 - val_acc: 0.0056\n",
      "Epoch 18/60\n",
      " - 1s - loss: 0.0225 - acc: 0.0103 - val_loss: 0.0225 - val_acc: 0.0122\n",
      "Epoch 19/60\n",
      " - 1s - loss: 0.0215 - acc: 0.0103 - val_loss: 0.0216 - val_acc: 0.0067\n",
      "Epoch 20/60\n",
      " - 1s - loss: 0.0206 - acc: 0.0106 - val_loss: 0.0208 - val_acc: 0.0089\n",
      "Epoch 21/60\n",
      " - 1s - loss: 0.0198 - acc: 0.0094 - val_loss: 0.0201 - val_acc: 0.0100\n",
      "Epoch 22/60\n",
      " - 1s - loss: 0.0190 - acc: 0.0114 - val_loss: 0.0194 - val_acc: 0.0078\n",
      "Epoch 23/60\n",
      " - 1s - loss: 0.0183 - acc: 0.0103 - val_loss: 0.0187 - val_acc: 0.0056\n",
      "Epoch 24/60\n",
      " - 1s - loss: 0.0176 - acc: 0.0114 - val_loss: 0.0181 - val_acc: 0.0100\n",
      "Epoch 25/60\n",
      " - 1s - loss: 0.0170 - acc: 0.0106 - val_loss: 0.0175 - val_acc: 0.0089\n",
      "Epoch 26/60\n",
      " - 1s - loss: 0.0164 - acc: 0.0117 - val_loss: 0.0170 - val_acc: 0.0067\n",
      "Epoch 27/60\n",
      " - 1s - loss: 0.0158 - acc: 0.0128 - val_loss: 0.0165 - val_acc: 0.0100\n",
      "Epoch 28/60\n",
      " - 1s - loss: 0.0153 - acc: 0.0136 - val_loss: 0.0160 - val_acc: 0.0100\n",
      "Epoch 29/60\n",
      " - 1s - loss: 0.0148 - acc: 0.0131 - val_loss: 0.0156 - val_acc: 0.0122\n",
      "Epoch 30/60\n",
      " - 1s - loss: 0.0144 - acc: 0.0136 - val_loss: 0.0152 - val_acc: 0.0122\n",
      "Epoch 31/60\n",
      " - 1s - loss: 0.0140 - acc: 0.0125 - val_loss: 0.0148 - val_acc: 0.0100\n",
      "Epoch 32/60\n",
      " - 1s - loss: 0.0136 - acc: 0.0117 - val_loss: 0.0144 - val_acc: 0.0078\n",
      "Epoch 33/60\n",
      " - 1s - loss: 0.0132 - acc: 0.0119 - val_loss: 0.0141 - val_acc: 0.0089\n",
      "Epoch 34/60\n",
      " - 1s - loss: 0.0128 - acc: 0.0122 - val_loss: 0.0138 - val_acc: 0.0089\n",
      "Epoch 35/60\n",
      " - 1s - loss: 0.0125 - acc: 0.0136 - val_loss: 0.0135 - val_acc: 0.0067\n",
      "Epoch 36/60\n",
      " - 1s - loss: 0.0122 - acc: 0.0111 - val_loss: 0.0132 - val_acc: 0.0089\n",
      "Epoch 37/60\n",
      " - 1s - loss: 0.0119 - acc: 0.0136 - val_loss: 0.0129 - val_acc: 0.0100\n",
      "Epoch 38/60\n",
      " - 1s - loss: 0.0116 - acc: 0.0117 - val_loss: 0.0126 - val_acc: 0.0056\n",
      "Epoch 39/60\n",
      " - 1s - loss: 0.0113 - acc: 0.0111 - val_loss: 0.0124 - val_acc: 0.0067\n",
      "Epoch 40/60\n",
      " - 1s - loss: 0.0110 - acc: 0.0111 - val_loss: 0.0121 - val_acc: 0.0089\n",
      "Epoch 41/60\n",
      " - 1s - loss: 0.0108 - acc: 0.0122 - val_loss: 0.0119 - val_acc: 0.0078\n",
      "Epoch 42/60\n",
      " - 1s - loss: 0.0106 - acc: 0.0122 - val_loss: 0.0117 - val_acc: 0.0133\n",
      "Epoch 43/60\n",
      " - 1s - loss: 0.0103 - acc: 0.0119 - val_loss: 0.0115 - val_acc: 0.0067\n",
      "Epoch 44/60\n",
      " - 1s - loss: 0.0101 - acc: 0.0128 - val_loss: 0.0113 - val_acc: 0.0056\n",
      "Epoch 45/60\n",
      " - 1s - loss: 0.0099 - acc: 0.0114 - val_loss: 0.0111 - val_acc: 0.0100\n",
      "Epoch 46/60\n",
      " - 1s - loss: 0.0097 - acc: 0.0125 - val_loss: 0.0110 - val_acc: 0.0100\n",
      "Epoch 47/60\n",
      " - 1s - loss: 0.0095 - acc: 0.0133 - val_loss: 0.0108 - val_acc: 0.0044\n",
      "Epoch 48/60\n",
      " - 1s - loss: 0.0094 - acc: 0.0117 - val_loss: 0.0107 - val_acc: 0.0067\n",
      "Epoch 49/60\n",
      " - 1s - loss: 0.0092 - acc: 0.0125 - val_loss: 0.0105 - val_acc: 0.0078\n",
      "Epoch 50/60\n",
      " - 1s - loss: 0.0090 - acc: 0.0136 - val_loss: 0.0104 - val_acc: 0.0089\n",
      "Epoch 51/60\n",
      " - 1s - loss: 0.0089 - acc: 0.0122 - val_loss: 0.0103 - val_acc: 0.0056\n",
      "Epoch 52/60\n",
      " - 1s - loss: 0.0087 - acc: 0.0125 - val_loss: 0.0101 - val_acc: 0.0089\n",
      "Epoch 53/60\n",
      " - 1s - loss: 0.0086 - acc: 0.0119 - val_loss: 0.0100 - val_acc: 0.0078\n",
      "Epoch 54/60\n",
      " - 1s - loss: 0.0084 - acc: 0.0119 - val_loss: 0.0099 - val_acc: 0.0078\n",
      "Epoch 55/60\n",
      " - 1s - loss: 0.0083 - acc: 0.0119 - val_loss: 0.0098 - val_acc: 0.0044\n",
      "Epoch 56/60\n",
      " - 1s - loss: 0.0082 - acc: 0.0119 - val_loss: 0.0096 - val_acc: 0.0100\n",
      "Epoch 57/60\n",
      " - 1s - loss: 0.0081 - acc: 0.0125 - val_loss: 0.0095 - val_acc: 0.0078\n",
      "Epoch 58/60\n",
      " - 1s - loss: 0.0079 - acc: 0.0114 - val_loss: 0.0095 - val_acc: 0.0133\n",
      "Epoch 59/60\n",
      " - 1s - loss: 0.0078 - acc: 0.0139 - val_loss: 0.0093 - val_acc: 0.0089\n",
      "Epoch 60/60\n",
      " - 1s - loss: 0.0077 - acc: 0.0114 - val_loss: 0.0093 - val_acc: 0.0067\n"
     ]
    },
    {
     "data": {
      "text/plain": [
       "<keras.callbacks.History at 0x1d020c58e10>"
      ]
     },
     "execution_count": 31,
     "metadata": {},
     "output_type": "execute_result"
    }
   ],
   "source": [
    "model.fit(data[:split],data[:split],nb_epoch=60,batch_size=30, verbose =2, validation_data=(data[split:],data[split:]))"
   ]
  },
  {
   "cell_type": "code",
   "execution_count": 25,
   "metadata": {},
   "outputs": [],
   "source": [
    "# Basically what we're doing here is calculating correct values for all the\n",
    "# pointers to matrices "
   ]
  },
  {
   "cell_type": "code",
   "execution_count": 33,
   "metadata": {},
   "outputs": [],
   "source": [
    "## Encoder :-\n",
    "enc_out = a1(h1(inp))\n",
    "encoder = Model(inputs=[inp], outputs=[enc_out])\n",
    "\n",
    "## Decoder :-\n",
    "dec_inp = Input(shape=(100,))\n",
    "dec_out = ya(y(a1(dec_inp)))\n",
    "decoder = Model(inputs=[dec_inp], outputs=[dec_out])"
   ]
  },
  {
   "cell_type": "code",
   "execution_count": 34,
   "metadata": {},
   "outputs": [],
   "source": [
    "ex=encoder.predict(data[100:200])"
   ]
  },
  {
   "cell_type": "code",
   "execution_count": 35,
   "metadata": {},
   "outputs": [],
   "source": [
    "dx=decoder.predict(ex)"
   ]
  },
  {
   "cell_type": "code",
   "execution_count": 36,
   "metadata": {},
   "outputs": [],
   "source": [
    "import matplotlib.pyplot as plt"
   ]
  },
  {
   "cell_type": "code",
   "execution_count": 37,
   "metadata": {},
   "outputs": [
    {
     "data": {
      "image/png": "[encoded data removed]",
      "text/plain": [
       "<matplotlib.figure.Figure at 0x1d0211162e8>"
      ]
     },
     "metadata": {},
     "output_type": "display_data"
    },
    {
     "data": {
      "text/plain": [
       "<matplotlib.image.AxesImage at 0x1d0210c4550>"
      ]
     },
     "execution_count": 37,
     "metadata": {},
     "output_type": "execute_result"
    },
    {
     "data": {
      "image/png": "[encoded data removed]",
      "text/plain": [
       "<matplotlib.figure.Figure at 0x1d020ff7048>"
      ]
     },
     "metadata": {},
     "output_type": "display_data"
    }
   ],
   "source": [
    "n = np.random.choice(100)\n",
    "\n",
    "plt.imshow(data[n+100].reshape((28,28)),cmap='gray')\n",
    "plt.show()\n",
    "\n",
    "\n",
    "plt.imshow(dx[n].reshape((28,28)),cmap='gray')"
   ]
  },
  {
   "cell_type": "code",
   "execution_count": null,
   "metadata": {},
   "outputs": [],
   "source": []
  }
 ],
 "metadata": {
  "kernelspec": {
   "display_name": "Python 3",
   "language": "python",
   "name": "python3"
  },
  "language_info": {
   "codemirror_mode": {
    "name": "ipython",
    "version": 3
   },
   "file_extension": ".py",
   "mimetype": "text/x-python",
   "name": "python",
   "nbconvert_exporter": "python",
   "pygments_lexer": "ipython3",
   "version": "3.6.3"
  }
 },
 "nbformat": 4,
 "nbformat_minor": 2
}
