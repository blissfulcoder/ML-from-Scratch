{
 "cells": [
  {
   "cell_type": "code",
   "execution_count": 1,
   "metadata": {},
   "outputs": [
    {
     "name": "stderr",
     "output_type": "stream",
     "text": [
      "Using TensorFlow backend.\n"
     ]
    }
   ],
   "source": [
    "import numpy as np\n",
    "from keras.layers import Input,Dense,Activation\n",
    "from keras.models import Model\n",
    "from keras.utils import np_utils\n",
    "import pandas as pd\n",
    "#dropout is method to reduce overfitting..it does increase accuracy.."
   ]
  },
  {
   "cell_type": "code",
   "execution_count": 2,
   "metadata": {},
   "outputs": [
    {
     "name": "stdout",
     "output_type": "stream",
     "text": [
      "(4500, 784)\n"
     ]
    }
   ],
   "source": [
    "ds = pd.read_csv(\"d:/ML--perceptron/mnist/train.csv\")\n",
    "data=ds.values[100:4600,1:]/255.0 #dont need label as performing unsupervised exp..\n",
    "print (data.shape)"
   ]
  },
  {
   "cell_type": "code",
   "execution_count": 3,
   "metadata": {},
   "outputs": [],
   "source": [
    "inp = Input(shape=(784,))\n",
    "h1 = Dense(100)\n",
    "a1 = Activation('sigmoid') ##a1 pointer to such class(activation)\n",
    "y = Dense(784)\n",
    "ya = Activation('sigmoid')\n",
    "\n",
    "yout = ya(y(a1(h1(inp))))\n",
    "model = Model(inputs=[inp], outputs=[yout])\n",
    "#model.summary()\n",
    "\n",
    "#dropout is good in classification problems.. to get rid of rigid patterns.."
   ]
  },
  {
   "cell_type": "code",
   "execution_count": 4,
   "metadata": {},
   "outputs": [],
   "source": [
    "model.compile(optimizer='adam',loss='MSE',metrics=['accuracy'])"
   ]
  },
  {
   "cell_type": "code",
   "execution_count": 5,
   "metadata": {},
   "outputs": [],
   "source": [
    "split = int(0.8*data.shape[0])"
   ]
  },
  {
   "cell_type": "code",
   "execution_count": 6,
   "metadata": {},
   "outputs": [
    {
     "name": "stderr",
     "output_type": "stream",
     "text": [
      "c:\\python\\python36\\lib\\site-packages\\ipykernel_launcher.py:1: UserWarning: The `nb_epoch` argument in `fit` has been renamed `epochs`.\n",
      "  \"\"\"Entry point for launching an IPython kernel.\n"
     ]
    },
    {
     "name": "stdout",
     "output_type": "stream",
     "text": [
      "Train on 3600 samples, validate on 900 samples\n",
      "Epoch 1/60\n",
      " - 1s - loss: 0.0856 - acc: 0.0128 - val_loss: 0.0681 - val_acc: 0.0156\n",
      "Epoch 2/60\n",
      " - 1s - loss: 0.0666 - acc: 0.0119 - val_loss: 0.0642 - val_acc: 0.0056\n",
      "Epoch 3/60\n",
      " - 1s - loss: 0.0615 - acc: 0.0139 - val_loss: 0.0580 - val_acc: 0.0133\n",
      "Epoch 4/60\n",
      " - 1s - loss: 0.0552 - acc: 0.0139 - val_loss: 0.0522 - val_acc: 0.0189\n",
      "Epoch 5/60\n",
      " - 1s - loss: 0.0501 - acc: 0.0136 - val_loss: 0.0477 - val_acc: 0.0222\n",
      "Epoch 6/60\n",
      " - 1s - loss: 0.0460 - acc: 0.0142 - val_loss: 0.0440 - val_acc: 0.0156\n",
      "Epoch 7/60\n",
      " - 1s - loss: 0.0426 - acc: 0.0136 - val_loss: 0.0410 - val_acc: 0.0211\n",
      "Epoch 8/60\n",
      " - 1s - loss: 0.0397 - acc: 0.0097 - val_loss: 0.0383 - val_acc: 0.0222\n",
      "Epoch 9/60\n",
      " - 0s - loss: 0.0372 - acc: 0.0139 - val_loss: 0.0360 - val_acc: 0.0156\n",
      "Epoch 10/60\n",
      " - 0s - loss: 0.0349 - acc: 0.0111 - val_loss: 0.0338 - val_acc: 0.0167\n",
      "Epoch 11/60\n",
      " - 1s - loss: 0.0328 - acc: 0.0111 - val_loss: 0.0319 - val_acc: 0.0144\n",
      "Epoch 12/60\n",
      " - 1s - loss: 0.0309 - acc: 0.0125 - val_loss: 0.0301 - val_acc: 0.0156\n",
      "Epoch 13/60\n",
      " - 1s - loss: 0.0292 - acc: 0.0128 - val_loss: 0.0286 - val_acc: 0.0100\n",
      "Epoch 14/60\n",
      " - 0s - loss: 0.0277 - acc: 0.0106 - val_loss: 0.0272 - val_acc: 0.0133\n",
      "Epoch 15/60\n",
      " - 0s - loss: 0.0263 - acc: 0.0111 - val_loss: 0.0259 - val_acc: 0.0089\n",
      "Epoch 16/60\n",
      " - 1s - loss: 0.0251 - acc: 0.0108 - val_loss: 0.0248 - val_acc: 0.0078\n",
      "Epoch 17/60\n",
      " - 0s - loss: 0.0239 - acc: 0.0117 - val_loss: 0.0237 - val_acc: 0.0089\n",
      "Epoch 18/60\n",
      " - 1s - loss: 0.0228 - acc: 0.0100 - val_loss: 0.0228 - val_acc: 0.0044\n",
      "Epoch 19/60\n",
      " - 0s - loss: 0.0218 - acc: 0.0097 - val_loss: 0.0219 - val_acc: 0.0056\n",
      "Epoch 20/60\n",
      " - 0s - loss: 0.0209 - acc: 0.0111 - val_loss: 0.0211 - val_acc: 0.0011\n",
      "Epoch 21/60\n",
      " - 0s - loss: 0.0200 - acc: 0.0111 - val_loss: 0.0203 - val_acc: 0.0033\n",
      "Epoch 22/60\n",
      " - 0s - loss: 0.0193 - acc: 0.0111 - val_loss: 0.0196 - val_acc: 0.0044\n",
      "Epoch 23/60\n",
      " - 1s - loss: 0.0185 - acc: 0.0117 - val_loss: 0.0189 - val_acc: 0.0067\n",
      "Epoch 24/60\n",
      " - 0s - loss: 0.0178 - acc: 0.0119 - val_loss: 0.0183 - val_acc: 0.0044\n",
      "Epoch 25/60\n",
      " - 1s - loss: 0.0172 - acc: 0.0128 - val_loss: 0.0177 - val_acc: 0.0056\n",
      "Epoch 26/60\n",
      " - 1s - loss: 0.0166 - acc: 0.0119 - val_loss: 0.0172 - val_acc: 0.0067\n",
      "Epoch 27/60\n",
      " - 0s - loss: 0.0160 - acc: 0.0133 - val_loss: 0.0167 - val_acc: 0.0078\n",
      "Epoch 28/60\n",
      " - 0s - loss: 0.0155 - acc: 0.0117 - val_loss: 0.0162 - val_acc: 0.0056\n",
      "Epoch 29/60\n",
      " - 1s - loss: 0.0150 - acc: 0.0122 - val_loss: 0.0158 - val_acc: 0.0089\n",
      "Epoch 30/60\n",
      " - 1s - loss: 0.0146 - acc: 0.0117 - val_loss: 0.0154 - val_acc: 0.0078\n",
      "Epoch 31/60\n",
      " - 1s - loss: 0.0141 - acc: 0.0103 - val_loss: 0.0150 - val_acc: 0.0089\n",
      "Epoch 32/60\n",
      " - 1s - loss: 0.0138 - acc: 0.0103 - val_loss: 0.0146 - val_acc: 0.0067\n",
      "Epoch 33/60\n",
      " - 1s - loss: 0.0134 - acc: 0.0097 - val_loss: 0.0143 - val_acc: 0.0067\n",
      "Epoch 34/60\n",
      " - 1s - loss: 0.0130 - acc: 0.0103 - val_loss: 0.0140 - val_acc: 0.0078\n",
      "Epoch 35/60\n",
      " - 1s - loss: 0.0127 - acc: 0.0117 - val_loss: 0.0137 - val_acc: 0.0100\n",
      "Epoch 36/60\n",
      " - 0s - loss: 0.0124 - acc: 0.0097 - val_loss: 0.0134 - val_acc: 0.0089\n",
      "Epoch 37/60\n",
      " - 1s - loss: 0.0121 - acc: 0.0089 - val_loss: 0.0132 - val_acc: 0.0067\n",
      "Epoch 38/60\n",
      " - 1s - loss: 0.0118 - acc: 0.0092 - val_loss: 0.0129 - val_acc: 0.0100\n",
      "Epoch 39/60\n",
      " - 1s - loss: 0.0115 - acc: 0.0108 - val_loss: 0.0126 - val_acc: 0.0122\n",
      "Epoch 40/60\n",
      " - 0s - loss: 0.0112 - acc: 0.0114 - val_loss: 0.0124 - val_acc: 0.0056\n",
      "Epoch 41/60\n",
      " - 1s - loss: 0.0110 - acc: 0.0103 - val_loss: 0.0122 - val_acc: 0.0111\n",
      "Epoch 42/60\n",
      " - 1s - loss: 0.0108 - acc: 0.0119 - val_loss: 0.0120 - val_acc: 0.0111\n",
      "Epoch 43/60\n",
      " - 1s - loss: 0.0105 - acc: 0.0119 - val_loss: 0.0118 - val_acc: 0.0111\n",
      "Epoch 44/60\n",
      " - 1s - loss: 0.0103 - acc: 0.0100 - val_loss: 0.0116 - val_acc: 0.0100\n",
      "Epoch 45/60\n",
      " - 1s - loss: 0.0101 - acc: 0.0106 - val_loss: 0.0114 - val_acc: 0.0122\n",
      "Epoch 46/60\n",
      " - 0s - loss: 0.0099 - acc: 0.0103 - val_loss: 0.0113 - val_acc: 0.0078\n",
      "Epoch 47/60\n",
      " - 1s - loss: 0.0097 - acc: 0.0111 - val_loss: 0.0111 - val_acc: 0.0089\n",
      "Epoch 48/60\n",
      " - 1s - loss: 0.0096 - acc: 0.0111 - val_loss: 0.0109 - val_acc: 0.0111\n",
      "Epoch 49/60\n",
      " - 1s - loss: 0.0094 - acc: 0.0122 - val_loss: 0.0108 - val_acc: 0.0122\n",
      "Epoch 50/60\n",
      " - 1s - loss: 0.0092 - acc: 0.0111 - val_loss: 0.0106 - val_acc: 0.0133\n",
      "Epoch 51/60\n",
      " - 0s - loss: 0.0091 - acc: 0.0108 - val_loss: 0.0105 - val_acc: 0.0133\n",
      "Epoch 52/60\n",
      " - 1s - loss: 0.0089 - acc: 0.0108 - val_loss: 0.0104 - val_acc: 0.0100\n",
      "Epoch 53/60\n",
      " - 1s - loss: 0.0088 - acc: 0.0106 - val_loss: 0.0103 - val_acc: 0.0089\n",
      "Epoch 54/60\n",
      " - 1s - loss: 0.0086 - acc: 0.0106 - val_loss: 0.0101 - val_acc: 0.0133\n",
      "Epoch 55/60\n",
      " - 0s - loss: 0.0085 - acc: 0.0108 - val_loss: 0.0100 - val_acc: 0.0133\n",
      "Epoch 56/60\n",
      " - 0s - loss: 0.0083 - acc: 0.0100 - val_loss: 0.0099 - val_acc: 0.0122\n",
      "Epoch 57/60\n",
      " - 0s - loss: 0.0082 - acc: 0.0119 - val_loss: 0.0097 - val_acc: 0.0144\n",
      "Epoch 58/60\n",
      " - 1s - loss: 0.0081 - acc: 0.0100 - val_loss: 0.0097 - val_acc: 0.0111\n",
      "Epoch 59/60\n",
      " - 1s - loss: 0.0080 - acc: 0.0106 - val_loss: 0.0095 - val_acc: 0.0111\n",
      "Epoch 60/60\n",
      " - 0s - loss: 0.0079 - acc: 0.0108 - val_loss: 0.0094 - val_acc: 0.0133\n"
     ]
    },
    {
     "data": {
      "text/plain": [
       "<keras.callbacks.History at 0x2987e4a5cf8>"
      ]
     },
     "execution_count": 6,
     "metadata": {},
     "output_type": "execute_result"
    }
   ],
   "source": [
    "model.fit(data[:split],data[:split],nb_epoch=60,batch_size=30, verbose =2, validation_data=(data[split:],data[split:]))"
   ]
  },
  {
   "cell_type": "code",
   "execution_count": 7,
   "metadata": {},
   "outputs": [],
   "source": [
    "# Basically what we're doing here is calculating correct values for all the\n",
    "# pointers to matrices "
   ]
  },
  {
   "cell_type": "code",
   "execution_count": 8,
   "metadata": {},
   "outputs": [],
   "source": [
    "## Encoder :-\n",
    "enc_out = a1(h1(inp))\n",
    "encoder = Model(inputs=[inp], outputs=[enc_out])\n",
    "\n",
    "## Decoder :-\n",
    "dec_inp = Input(shape=(100,))\n",
    "dec_out = ya(y(a1(dec_inp)))\n",
    "decoder = Model(inputs=[dec_inp], outputs=[dec_out])"
   ]
  },
  {
   "cell_type": "code",
   "execution_count": 9,
   "metadata": {},
   "outputs": [],
   "source": [
    "ex=encoder.predict(data[100:200])"
   ]
  },
  {
   "cell_type": "code",
   "execution_count": 10,
   "metadata": {},
   "outputs": [],
   "source": [
    "dx=decoder.predict(ex)"
   ]
  },
  {
   "cell_type": "code",
   "execution_count": 11,
   "metadata": {},
   "outputs": [],
   "source": [
    "import matplotlib.pyplot as plt"
   ]
  },
  {
   "cell_type": "code",
   "execution_count": 17,
   "metadata": {},
   "outputs": [
    {
     "data": {
      "image/png": "[encoded data removed]",
      "text/plain": [
       "<matplotlib.figure.Figure at 0x29800ab7c18>"
      ]
     },
     "metadata": {},
     "output_type": "display_data"
    },
    {
     "data": {
      "text/plain": [
       "<matplotlib.image.AxesImage at 0x29801009cc0>"
      ]
     },
     "execution_count": 17,
     "metadata": {},
     "output_type": "execute_result"
    },
    {
     "data": {
      "image/png": "[encoded data removed]",
      "text/plain": [
       "<matplotlib.figure.Figure at 0x29800f9d4a8>"
      ]
     },
     "metadata": {},
     "output_type": "display_data"
    }
   ],
   "source": [
    "n = np.random.choice(100)\n",
    "\n",
    "plt.imshow(data[n+100].reshape((28,28)),cmap='gray')\n",
    "plt.show()\n",
    "\n",
    "\n",
    "plt.imshow(dx[n].reshape((28,28)),cmap='gray')"
   ]
  },
  {
   "cell_type": "code",
   "execution_count": null,
   "metadata": {},
   "outputs": [],
   "source": []
  }
 ],
 "metadata": {
  "kernelspec": {
   "display_name": "Python 3",
   "language": "python",
   "name": "python3"
  },
  "language_info": {
   "codemirror_mode": {
    "name": "ipython",
    "version": 3
   },
   "file_extension": ".py",
   "mimetype": "text/x-python",
   "name": "python",
   "nbconvert_exporter": "python",
   "pygments_lexer": "ipython3",
   "version": "3.6.3"
  }
 },
 "nbformat": 4,
 "nbformat_minor": 2
}
