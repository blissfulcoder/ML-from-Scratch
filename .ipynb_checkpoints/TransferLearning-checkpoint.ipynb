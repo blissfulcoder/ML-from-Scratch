{
 "cells": [
  {
   "cell_type": "code",
   "execution_count": 21,
   "metadata": {},
   "outputs": [],
   "source": [
    "import numpy as np\n",
    "import matplotlib.pyplot as plt\n",
    "import pandas as pd\n",
    "from keras.utils import np_utils\n",
    "from keras.layers import Dense, Activation,Flatten, Convolution2D, Dropout, MaxPooling2D\n",
    "from keras.models import Sequential\n",
    "\n",
    "import datetime"
   ]
  },
  {
   "cell_type": "code",
   "execution_count": 22,
   "metadata": {},
   "outputs": [
    {
     "name": "stdout",
     "output_type": "stream",
     "text": [
      "(12000, 785)\n"
     ]
    }
   ],
   "source": [
    "ds = pd.read_csv('d:/ML--perceptron/mnist/train.csv')\n",
    "data = ds.values[:12000]\n",
    "print (data.shape)"
   ]
  },
  {
   "cell_type": "code",
   "execution_count": 23,
   "metadata": {},
   "outputs": [
    {
     "name": "stdout",
     "output_type": "stream",
     "text": [
      "(12000,)\n",
      "(12000,)\n",
      "[False  True]\n",
      "6134\n",
      "---\n",
      "(6134, 785)\n",
      "(5866, 785)\n"
     ]
    }
   ],
   "source": [
    "## Model1 -> (0-4) and model 2 -> (5-9)\n",
    "mask = data[:,0] < 5\n",
    "print (data[:,0].shape)\n",
    "print (mask.shape)\n",
    "print (np.unique(mask))\n",
    "print (mask.sum())\n",
    "\n",
    "data_01 = []\n",
    "data_02 = []\n",
    "\n",
    "for ix in range(data.shape[0]):\n",
    "    if mask[ix] == True:\n",
    "        data_01.append(data[ix])\n",
    "    else:\n",
    "        data_02.append(data[ix])\n",
    "\n",
    "data_01 = np.asarray(data_01)\n",
    "data_02 = np.asarray(data_02)\n",
    "print (\"---\")\n",
    "print (data_01.shape)\n",
    "print (data_02.shape)"
   ]
  },
  {
   "cell_type": "code",
   "execution_count": 31,
   "metadata": {},
   "outputs": [
    {
     "name": "stdout",
     "output_type": "stream",
     "text": [
      "(5213, 28, 28, 1) (921, 28, 28, 1)\n",
      "(5213, 5) (921, 5)\n"
     ]
    }
   ],
   "source": [
    "## data_01 for first network: \n",
    "split = int(0.85*data_01.shape[0])\n",
    "\n",
    "x_tr = data_01[:split, 1:]/255.0\n",
    "x_tes = data_01[split:, 1:]/255.0\n",
    "\n",
    "y_tr = np_utils.to_categorical(data_01[:split,0], nb_classes=5)\n",
    "y_tes = np_utils.to_categorical(data_01[split:, 0], nb_classes=5)\n",
    "\n",
    "x_tr = x_tr.reshape((-1,28,28,1))\n",
    "x_tes = x_tes.reshape((-1,28,28,1))\n",
    "\n",
    "print (x_tr.shape, x_tes.shape)\n",
    "print (y_tr.shape, y_tes.shape)"
   ]
  },
  {
   "cell_type": "code",
   "execution_count": 32,
   "metadata": {},
   "outputs": [
    {
     "name": "stdout",
     "output_type": "stream",
     "text": [
      "____________________________________________________________________________________________________\n",
      "Layer (type)                     Output Shape          Param #     Connected to                     \n",
      "====================================================================================================\n",
      "convolution2d_13 (Convolution2D) (None, 26, 26, 64)    640         convolution2d_input_4[0][0]      \n",
      "____________________________________________________________________________________________________\n",
      "convolution2d_14 (Convolution2D) (None, 24, 24, 32)    18464       convolution2d_13[0][0]           \n",
      "____________________________________________________________________________________________________\n",
      "maxpooling2d_4 (MaxPooling2D)    (None, 12, 12, 32)    0           convolution2d_14[0][0]           \n",
      "____________________________________________________________________________________________________\n",
      "convolution2d_15 (Convolution2D) (None, 10, 10, 16)    4624        maxpooling2d_4[0][0]             \n",
      "____________________________________________________________________________________________________\n",
      "convolution2d_16 (Convolution2D) (None, 8, 8, 8)       1160        convolution2d_15[0][0]           \n",
      "____________________________________________________________________________________________________\n",
      "flatten_4 (Flatten)              (None, 512)           0           convolution2d_16[0][0]           \n",
      "____________________________________________________________________________________________________\n",
      "dense_6 (Dense)                  (None, 100)           51300       flatten_4[0][0]                  \n",
      "____________________________________________________________________________________________________\n",
      "dropout_4 (Dropout)              (None, 100)           0           dense_6[0][0]                    \n",
      "____________________________________________________________________________________________________\n",
      "activation_5 (Activation)        (None, 100)           0           dropout_4[0][0]                  \n",
      "____________________________________________________________________________________________________\n",
      "dense_7 (Dense)                  (None, 5)             505         activation_5[0][0]               \n",
      "____________________________________________________________________________________________________\n",
      "activation_6 (Activation)        (None, 5)             0           dense_7[0][0]                    \n",
      "====================================================================================================\n",
      "Total params: 76,693\n",
      "Trainable params: 76,693\n",
      "Non-trainable params: 0\n",
      "____________________________________________________________________________________________________\n"
     ]
    }
   ],
   "source": [
    "model = Sequential()\n",
    "\n",
    "model.add(Convolution2D(64,3,3, input_shape = (28,28,1), activation='relu'))\n",
    "model.add(Convolution2D(32,3,3, activation='relu'))\n",
    "\n",
    "model.add(MaxPooling2D(pool_size=(2,2)))\n",
    "\n",
    "model.add(Convolution2D(16,3,3, activation='relu'))\n",
    "model.add(Convolution2D(8,3,3, activation='relu'))\n",
    "\n",
    "model.add(Flatten())\n",
    "\n",
    "model.add(Dense(100))\n",
    "model.add(Dropout(0.5))\n",
    "model.add(Activation('relu'))\n",
    "\n",
    "model.add(Dense(5))\n",
    "model.add(Activation('softmax'))\n",
    "model.summary()"
   ]
  },
  {
   "cell_type": "code",
   "execution_count": 33,
   "metadata": {},
   "outputs": [],
   "source": [
    "model.compile(loss='categorical_crossentropy', optimizer='adam', metrics=['accuracy'])"
   ]
  },
  {
   "cell_type": "code",
   "execution_count": 34,
   "metadata": {},
   "outputs": [
    {
     "name": "stdout",
     "output_type": "stream",
     "text": [
      "0:00:00\n"
     ]
    }
   ],
   "source": [
    "start = datetime.datetime.now()\n",
    "ans = start - datetime.datetime.now()\n",
    "print (ans)"
   ]
  },
  {
   "cell_type": "code",
   "execution_count": 36,
   "metadata": {},
   "outputs": [
    {
     "name": "stdout",
     "output_type": "stream",
     "text": [
      "Train on 5213 samples, validate on 921 samples\n",
      "Epoch 1/5\n",
      "23s - loss: 0.1523 - acc: 0.9555 - val_loss: 0.0632 - val_acc: 0.9783\n",
      "Epoch 2/5\n",
      "27s - loss: 0.0881 - acc: 0.9762 - val_loss: 0.0425 - val_acc: 0.9805\n",
      "Epoch 3/5\n",
      "25s - loss: 0.0611 - acc: 0.9824 - val_loss: 0.0364 - val_acc: 0.9859\n",
      "Epoch 4/5\n",
      "22s - loss: 0.0389 - acc: 0.9875 - val_loss: 0.0501 - val_acc: 0.9848\n",
      "Epoch 5/5\n",
      "22s - loss: 0.0359 - acc: 0.9893 - val_loss: 0.0409 - val_acc: 0.9848\n"
     ]
    }
   ],
   "source": [
    "hist = model.fit(x_tr,y_tr,batch_size=16, nb_epoch=5, verbose=2, validation_data=(x_tes,y_tes))"
   ]
  },
  {
   "cell_type": "code",
   "execution_count": 50,
   "metadata": {},
   "outputs": [
    {
     "name": "stdout",
     "output_type": "stream",
     "text": [
      "____________________________________________________________________________________________________\n",
      "Layer (type)                     Output Shape          Param #     Connected to                     \n",
      "====================================================================================================\n",
      "convolution2d_13 (Convolution2D) (None, 26, 26, 64)    640         convolution2d_input_4[0][0]      \n",
      "____________________________________________________________________________________________________\n",
      "convolution2d_14 (Convolution2D) (None, 24, 24, 32)    18464       convolution2d_13[0][0]           \n",
      "                                                                   convolution2d_13[0][0]           \n",
      "                                                                   convolution2d_13[0][0]           \n",
      "                                                                   convolution2d_13[0][0]           \n",
      "                                                                   convolution2d_13[0][0]           \n",
      "                                                                   convolution2d_13[0][0]           \n",
      "                                                                   convolution2d_13[0][0]           \n",
      "                                                                   convolution2d_13[0][0]           \n",
      "                                                                   convolution2d_13[0][0]           \n",
      "                                                                   convolution2d_13[0][0]           \n",
      "____________________________________________________________________________________________________\n",
      "maxpooling2d_4 (MaxPooling2D)    (None, 12, 12, 32)    0           convolution2d_14[0][0]           \n",
      "                                                                   convolution2d_14[1][0]           \n",
      "                                                                   convolution2d_14[2][0]           \n",
      "                                                                   convolution2d_14[3][0]           \n",
      "                                                                   convolution2d_14[4][0]           \n",
      "                                                                   convolution2d_14[5][0]           \n",
      "                                                                   convolution2d_14[6][0]           \n",
      "                                                                   convolution2d_14[7][0]           \n",
      "                                                                   convolution2d_14[8][0]           \n",
      "                                                                   convolution2d_14[9][0]           \n",
      "____________________________________________________________________________________________________\n",
      "convolution2d_15 (Convolution2D) (None, 10, 10, 16)    4624        maxpooling2d_4[0][0]             \n",
      "                                                                   maxpooling2d_4[1][0]             \n",
      "                                                                   maxpooling2d_4[2][0]             \n",
      "                                                                   maxpooling2d_4[3][0]             \n",
      "                                                                   maxpooling2d_4[4][0]             \n",
      "                                                                   maxpooling2d_4[5][0]             \n",
      "                                                                   maxpooling2d_4[6][0]             \n",
      "                                                                   maxpooling2d_4[7][0]             \n",
      "                                                                   maxpooling2d_4[8][0]             \n",
      "                                                                   maxpooling2d_4[9][0]             \n",
      "____________________________________________________________________________________________________\n",
      "convolution2d_16 (Convolution2D) (None, 8, 8, 8)       1160        convolution2d_15[0][0]           \n",
      "                                                                   convolution2d_15[1][0]           \n",
      "                                                                   convolution2d_15[2][0]           \n",
      "                                                                   convolution2d_15[3][0]           \n",
      "                                                                   convolution2d_15[4][0]           \n",
      "                                                                   convolution2d_15[6][0]           \n",
      "                                                                   convolution2d_15[7][0]           \n",
      "                                                                   convolution2d_15[8][0]           \n",
      "                                                                   convolution2d_15[9][0]           \n",
      "____________________________________________________________________________________________________\n",
      "flatten_4 (Flatten)              (None, 512)           0           convolution2d_16[0][0]           \n",
      "                                                                   convolution2d_16[1][0]           \n",
      "                                                                   convolution2d_16[2][0]           \n",
      "                                                                   convolution2d_16[3][0]           \n",
      "                                                                   convolution2d_16[5][0]           \n",
      "                                                                   convolution2d_16[6][0]           \n",
      "                                                                   convolution2d_16[7][0]           \n",
      "                                                                   convolution2d_16[8][0]           \n",
      "____________________________________________________________________________________________________\n",
      "dense_6 (Dense)                  (None, 100)           51300       flatten_4[0][0]                  \n",
      "                                                                   flatten_4[1][0]                  \n",
      "                                                                   flatten_4[2][0]                  \n",
      "                                                                   flatten_4[4][0]                  \n",
      "                                                                   flatten_4[5][0]                  \n",
      "                                                                   flatten_4[6][0]                  \n",
      "                                                                   flatten_4[7][0]                  \n",
      "____________________________________________________________________________________________________\n",
      "dense_10 (Dense)                 (None, 5)             505         dense_6[6][0]                    \n",
      "____________________________________________________________________________________________________\n",
      "activation_9 (Activation)        (None, 5)             0           dense_10[0][0]                   \n",
      "====================================================================================================\n",
      "Total params: 76,693\n",
      "Trainable params: 505\n",
      "Non-trainable params: 76,188\n",
      "____________________________________________________________________________________________________\n"
     ]
    }
   ],
   "source": [
    "transfer_model = Sequential(model.layers[:-4])\n",
    "\n",
    "for ix in transfer_model.layers:\n",
    "    ix.trainable = False\n",
    "\n",
    "#transfer_model.add(Flatten)\n",
    "#transfer_model.add(Dense(100))\n",
    "#transfer_model.add(Dropout(0.5))\n",
    "#transfer_model.add(Activation('relu'))\n",
    "\n",
    "\n",
    "\n",
    "transfer_model.add(Dense(5))\n",
    "transfer_model.add(Activation('softmax'))\n",
    "transfer_model.summary()"
   ]
  },
  {
   "cell_type": "code",
   "execution_count": 70,
   "metadata": {},
   "outputs": [
    {
     "name": "stdout",
     "output_type": "stream",
     "text": [
      "(4986, 28, 28, 1) (880, 28, 28, 1)\n",
      "(4986, 5) (880, 5)\n"
     ]
    }
   ],
   "source": [
    "split = int(0.85 * data_02.shape[0])\n",
    "\n",
    "X_tr = data_02[:split,1:]/255.0\n",
    "X_te = data_02[split:,1:]/255.0\n",
    "\n",
    "X_tr = X_tr.reshape((-1,28,28,1))\n",
    "X_te = X_te.reshape((-1,28,28,1))\n",
    "\n",
    "y_tr = np_utils.to_categorical(data_02[:split,0]-5,nb_classes=5)\n",
    "y_te = np_utils.to_categorical(data_02[split:,0]-5,nb_classes=5)\n",
    "\n",
    "print(X_tr.shape, X_te.shape)\n",
    "print(y_tr.shape, y_te.shape)"
   ]
  },
  {
   "cell_type": "code",
   "execution_count": 71,
   "metadata": {},
   "outputs": [],
   "source": [
    "transfer_model.compile(loss='categorical_crossentropy', optimizer='adam',metrics=['accuracy'])"
   ]
  },
  {
   "cell_type": "code",
   "execution_count": 73,
   "metadata": {},
   "outputs": [
    {
     "name": "stdout",
     "output_type": "stream",
     "text": [
      "Train on 4986 samples, validate on 880 samples\n",
      "Epoch 1/10\n",
      "4986/4986 [==============================] - 8s - loss: 0.1315 - acc: 0.9545 - val_loss: 0.1419 - val_acc: 0.9568\n",
      "Epoch 2/10\n",
      "4986/4986 [==============================] - 8s - loss: 0.1294 - acc: 0.9583 - val_loss: 0.1416 - val_acc: 0.9591\n",
      "Epoch 3/10\n",
      "4986/4986 [==============================] - 8s - loss: 0.1284 - acc: 0.9585 - val_loss: 0.1402 - val_acc: 0.9580\n",
      "Epoch 4/10\n",
      "4986/4986 [==============================] - 8s - loss: 0.1266 - acc: 0.9597 - val_loss: 0.1380 - val_acc: 0.9591\n",
      "Epoch 5/10\n",
      "4986/4986 [==============================] - 8s - loss: 0.1253 - acc: 0.9591 - val_loss: 0.1362 - val_acc: 0.9580\n",
      "Epoch 6/10\n",
      "4986/4986 [==============================] - 9s - loss: 0.1238 - acc: 0.9577 - val_loss: 0.1363 - val_acc: 0.9580\n",
      "Epoch 7/10\n",
      "4986/4986 [==============================] - 9s - loss: 0.1223 - acc: 0.9601 - val_loss: 0.1363 - val_acc: 0.9580\n",
      "Epoch 8/10\n",
      "4986/4986 [==============================] - 8s - loss: 0.1214 - acc: 0.9601 - val_loss: 0.1336 - val_acc: 0.9568\n",
      "Epoch 9/10\n",
      "4986/4986 [==============================] - 8s - loss: 0.1203 - acc: 0.9593 - val_loss: 0.1291 - val_acc: 0.9614\n",
      "Epoch 10/10\n",
      "4986/4986 [==============================] - 8s - loss: 0.1194 - acc: 0.9605 - val_loss: 0.1342 - val_acc: 0.9568\n",
      "0:01:26.921422\n"
     ]
    }
   ],
   "source": [
    "start = datetime.datetime.now()\n",
    "hist = transfer_model.fit(X_tr,y_tr,nb_epoch=10,shuffle=True,batch_size=128,validation_data=(X_te,y_te))\n",
    "print (datetime.datetime.now()-start)"
   ]
  },
  {
   "cell_type": "code",
   "execution_count": null,
   "metadata": {},
   "outputs": [],
   "source": []
  }
 ],
 "metadata": {
  "kernelspec": {
   "display_name": "Python 3",
   "language": "python",
   "name": "python3"
  },
  "language_info": {
   "codemirror_mode": {
    "name": "ipython",
    "version": 3
   },
   "file_extension": ".py",
   "mimetype": "text/x-python",
   "name": "python",
   "nbconvert_exporter": "python",
   "pygments_lexer": "ipython3",
   "version": "3.6.3"
  }
 },
 "nbformat": 4,
 "nbformat_minor": 2
}
