{
 "cells": [
  {
   "cell_type": "code",
   "execution_count": 1,
   "metadata": {},
   "outputs": [
    {
     "name": "stderr",
     "output_type": "stream",
     "text": [
      "Using TensorFlow backend.\n"
     ]
    }
   ],
   "source": [
    "import numpy as np\n",
    "import pandas as pd\n",
    "from keras.utils import np_utils\n",
    "from keras.layers import Dense,Activation, Dropout\n",
    "from keras.models import Sequential"
   ]
  },
  {
   "cell_type": "code",
   "execution_count": 2,
   "metadata": {
    "scrolled": true
   },
   "outputs": [
    {
     "data": {
      "text/html": [
       "<div>\n",
       "<style scoped>\n",
       "    .dataframe tbody tr th:only-of-type {\n",
       "        vertical-align: middle;\n",
       "    }\n",
       "\n",
       "    .dataframe tbody tr th {\n",
       "        vertical-align: top;\n",
       "    }\n",
       "\n",
       "    .dataframe thead th {\n",
       "        text-align: right;\n",
       "    }\n",
       "</style>\n",
       "<table border=\"1\" class=\"dataframe\">\n",
       "  <thead>\n",
       "    <tr style=\"text-align: right;\">\n",
       "      <th></th>\n",
       "      <th>label</th>\n",
       "      <th>pixel1</th>\n",
       "      <th>pixel2</th>\n",
       "      <th>pixel3</th>\n",
       "      <th>pixel4</th>\n",
       "      <th>pixel5</th>\n",
       "      <th>pixel6</th>\n",
       "      <th>pixel7</th>\n",
       "      <th>pixel8</th>\n",
       "      <th>pixel9</th>\n",
       "      <th>...</th>\n",
       "      <th>pixel775</th>\n",
       "      <th>pixel776</th>\n",
       "      <th>pixel777</th>\n",
       "      <th>pixel778</th>\n",
       "      <th>pixel779</th>\n",
       "      <th>pixel780</th>\n",
       "      <th>pixel781</th>\n",
       "      <th>pixel782</th>\n",
       "      <th>pixel783</th>\n",
       "      <th>pixel784</th>\n",
       "    </tr>\n",
       "  </thead>\n",
       "  <tbody>\n",
       "    <tr>\n",
       "      <th>59995</th>\n",
       "      <td>9</td>\n",
       "      <td>0</td>\n",
       "      <td>0</td>\n",
       "      <td>0</td>\n",
       "      <td>0</td>\n",
       "      <td>0</td>\n",
       "      <td>0</td>\n",
       "      <td>0</td>\n",
       "      <td>0</td>\n",
       "      <td>0</td>\n",
       "      <td>...</td>\n",
       "      <td>0</td>\n",
       "      <td>0</td>\n",
       "      <td>0</td>\n",
       "      <td>0</td>\n",
       "      <td>0</td>\n",
       "      <td>0</td>\n",
       "      <td>0</td>\n",
       "      <td>0</td>\n",
       "      <td>0</td>\n",
       "      <td>0</td>\n",
       "    </tr>\n",
       "    <tr>\n",
       "      <th>59996</th>\n",
       "      <td>1</td>\n",
       "      <td>0</td>\n",
       "      <td>0</td>\n",
       "      <td>0</td>\n",
       "      <td>0</td>\n",
       "      <td>0</td>\n",
       "      <td>0</td>\n",
       "      <td>0</td>\n",
       "      <td>0</td>\n",
       "      <td>0</td>\n",
       "      <td>...</td>\n",
       "      <td>73</td>\n",
       "      <td>0</td>\n",
       "      <td>0</td>\n",
       "      <td>0</td>\n",
       "      <td>0</td>\n",
       "      <td>0</td>\n",
       "      <td>0</td>\n",
       "      <td>0</td>\n",
       "      <td>0</td>\n",
       "      <td>0</td>\n",
       "    </tr>\n",
       "    <tr>\n",
       "      <th>59997</th>\n",
       "      <td>8</td>\n",
       "      <td>0</td>\n",
       "      <td>0</td>\n",
       "      <td>0</td>\n",
       "      <td>0</td>\n",
       "      <td>0</td>\n",
       "      <td>0</td>\n",
       "      <td>0</td>\n",
       "      <td>0</td>\n",
       "      <td>0</td>\n",
       "      <td>...</td>\n",
       "      <td>160</td>\n",
       "      <td>162</td>\n",
       "      <td>163</td>\n",
       "      <td>135</td>\n",
       "      <td>94</td>\n",
       "      <td>0</td>\n",
       "      <td>0</td>\n",
       "      <td>0</td>\n",
       "      <td>0</td>\n",
       "      <td>0</td>\n",
       "    </tr>\n",
       "    <tr>\n",
       "      <th>59998</th>\n",
       "      <td>8</td>\n",
       "      <td>0</td>\n",
       "      <td>0</td>\n",
       "      <td>0</td>\n",
       "      <td>0</td>\n",
       "      <td>0</td>\n",
       "      <td>0</td>\n",
       "      <td>0</td>\n",
       "      <td>0</td>\n",
       "      <td>0</td>\n",
       "      <td>...</td>\n",
       "      <td>0</td>\n",
       "      <td>0</td>\n",
       "      <td>0</td>\n",
       "      <td>0</td>\n",
       "      <td>0</td>\n",
       "      <td>0</td>\n",
       "      <td>0</td>\n",
       "      <td>0</td>\n",
       "      <td>0</td>\n",
       "      <td>0</td>\n",
       "    </tr>\n",
       "    <tr>\n",
       "      <th>59999</th>\n",
       "      <td>7</td>\n",
       "      <td>0</td>\n",
       "      <td>0</td>\n",
       "      <td>0</td>\n",
       "      <td>0</td>\n",
       "      <td>0</td>\n",
       "      <td>0</td>\n",
       "      <td>0</td>\n",
       "      <td>0</td>\n",
       "      <td>0</td>\n",
       "      <td>...</td>\n",
       "      <td>0</td>\n",
       "      <td>0</td>\n",
       "      <td>0</td>\n",
       "      <td>0</td>\n",
       "      <td>0</td>\n",
       "      <td>0</td>\n",
       "      <td>0</td>\n",
       "      <td>0</td>\n",
       "      <td>0</td>\n",
       "      <td>0</td>\n",
       "    </tr>\n",
       "  </tbody>\n",
       "</table>\n",
       "<p>5 rows × 785 columns</p>\n",
       "</div>"
      ],
      "text/plain": [
       "       label  pixel1  pixel2  pixel3  pixel4  pixel5  pixel6  pixel7  pixel8  \\\n",
       "59995      9       0       0       0       0       0       0       0       0   \n",
       "59996      1       0       0       0       0       0       0       0       0   \n",
       "59997      8       0       0       0       0       0       0       0       0   \n",
       "59998      8       0       0       0       0       0       0       0       0   \n",
       "59999      7       0       0       0       0       0       0       0       0   \n",
       "\n",
       "       pixel9    ...     pixel775  pixel776  pixel777  pixel778  pixel779  \\\n",
       "59995       0    ...            0         0         0         0         0   \n",
       "59996       0    ...           73         0         0         0         0   \n",
       "59997       0    ...          160       162       163       135        94   \n",
       "59998       0    ...            0         0         0         0         0   \n",
       "59999       0    ...            0         0         0         0         0   \n",
       "\n",
       "       pixel780  pixel781  pixel782  pixel783  pixel784  \n",
       "59995         0         0         0         0         0  \n",
       "59996         0         0         0         0         0  \n",
       "59997         0         0         0         0         0  \n",
       "59998         0         0         0         0         0  \n",
       "59999         0         0         0         0         0  \n",
       "\n",
       "[5 rows x 785 columns]"
      ]
     },
     "execution_count": 2,
     "metadata": {},
     "output_type": "execute_result"
    }
   ],
   "source": [
    "ds = pd.read_csv(\"d:/ML--perceptron/fashion_mnist_train.csv\")\n",
    "ds.tail()"
   ]
  },
  {
   "cell_type": "code",
   "execution_count": 3,
   "metadata": {},
   "outputs": [
    {
     "name": "stdout",
     "output_type": "stream",
     "text": [
      "(11000, 785)\n"
     ]
    }
   ],
   "source": [
    "data=ds.values[6000:17000]\n",
    "print (data.shape)"
   ]
  },
  {
   "cell_type": "code",
   "execution_count": 4,
   "metadata": {},
   "outputs": [
    {
     "name": "stdout",
     "output_type": "stream",
     "text": [
      "(11000, 784)\n",
      "(11000,)\n"
     ]
    }
   ],
   "source": [
    "#X = data[:,1:]\n",
    "X = data[:,1:]/255.0\n",
    "y=data[:,0]\n",
    "print (X.shape)\n",
    "print (y.shape)\n",
    "nb_classes=len(np.unique(y))"
   ]
  },
  {
   "cell_type": "code",
   "execution_count": 5,
   "metadata": {},
   "outputs": [
    {
     "name": "stdout",
     "output_type": "stream",
     "text": [
      "4 [0. 0. 0. 0. 1. 0. 0. 0. 0. 0.]\n",
      "8 [0. 0. 0. 0. 0. 0. 0. 0. 1. 0.]\n",
      "7 [0. 0. 0. 0. 0. 0. 0. 1. 0. 0.]\n",
      "0 [1. 0. 0. 0. 0. 0. 0. 0. 0. 0.]\n",
      "8 [0. 0. 0. 0. 0. 0. 0. 0. 1. 0.]\n",
      "1 [0. 1. 0. 0. 0. 0. 0. 0. 0. 0.]\n",
      "2 [0. 0. 1. 0. 0. 0. 0. 0. 0. 0.]\n",
      "4 [0. 0. 0. 0. 1. 0. 0. 0. 0. 0.]\n",
      "2 [0. 0. 1. 0. 0. 0. 0. 0. 0. 0.]\n",
      "4 [0. 0. 0. 0. 1. 0. 0. 0. 0. 0.]\n"
     ]
    }
   ],
   "source": [
    "Y = np_utils.to_categorical(y)\n",
    "for ix in range(10):\n",
    "    print (y[ix], Y[ix])\n",
    "##with sigmoid dont need this encoding but with softmax it's required.."
   ]
  },
  {
   "cell_type": "code",
   "execution_count": 6,
   "metadata": {},
   "outputs": [
    {
     "name": "stdout",
     "output_type": "stream",
     "text": [
      "(8800, 784) (8800, 10)\n"
     ]
    }
   ],
   "source": [
    "split = int(0.8*data.shape[0])\n",
    "X_train=X[:split]\n",
    "X_test=X[split:]\n",
    "y_train=Y[:split]\n",
    "y_test = Y[split:]\n",
    "print (X_train.shape, y_train.shape)"
   ]
  },
  {
   "cell_type": "code",
   "execution_count": 7,
   "metadata": {},
   "outputs": [],
   "source": [
    "#output is bounded in 0 to 255 so we will use relu.."
   ]
  },
  {
   "cell_type": "code",
   "execution_count": 8,
   "metadata": {},
   "outputs": [
    {
     "name": "stdout",
     "output_type": "stream",
     "text": [
      "_________________________________________________________________\n",
      "Layer (type)                 Output Shape              Param #   \n",
      "=================================================================\n",
      "dense_1 (Dense)              (None, 512)               401920    \n",
      "_________________________________________________________________\n",
      "activation_1 (Activation)    (None, 512)               0         \n",
      "_________________________________________________________________\n",
      "dropout_1 (Dropout)          (None, 512)               0         \n",
      "_________________________________________________________________\n",
      "dense_2 (Dense)              (None, 10)                5130      \n",
      "_________________________________________________________________\n",
      "activation_2 (Activation)    (None, 10)                0         \n",
      "=================================================================\n",
      "Total params: 407,050\n",
      "Trainable params: 407,050\n",
      "Non-trainable params: 0\n",
      "_________________________________________________________________\n"
     ]
    }
   ],
   "source": [
    "model = Sequential()\n",
    "\n",
    "model.add(Dense(512, input_shape=(784,)))\n",
    "model.add(Activation('relu'))\n",
    "model.add(Dropout(0.5))\n",
    "\n",
    "model.add(Dense(nb_classes))\n",
    "model.add(Activation('softmax'))\n",
    "\n",
    "model.summary()"
   ]
  },
  {
   "cell_type": "code",
   "execution_count": 9,
   "metadata": {},
   "outputs": [],
   "source": [
    "model.compile(loss='categorical_crossentropy',optimizer='adam',metrics=['accuracy'])\n",
    "#softmax goes in hand in hand with categorical crossentropy..\n",
    "#backpropogation required when writing own loss function..\n",
    "#optimizer works inside loss fn, and controls how to come down the slope.."
   ]
  },
  {
   "cell_type": "code",
   "execution_count": 10,
   "metadata": {},
   "outputs": [
    {
     "name": "stderr",
     "output_type": "stream",
     "text": [
      "c:\\python\\python36\\lib\\site-packages\\keras\\models.py:942: UserWarning: The `nb_epoch` argument in `fit` has been renamed `epochs`.\n",
      "  warnings.warn('The `nb_epoch` argument in `fit` '\n"
     ]
    },
    {
     "name": "stdout",
     "output_type": "stream",
     "text": [
      "Train on 8800 samples, validate on 2200 samples\n",
      "Epoch 1/20\n",
      "8800/8800 [==============================] - 4s 409us/step - loss: 0.7964 - acc: 0.7157 - val_loss: 0.5603 - val_acc: 0.7995\n",
      "Epoch 2/20\n",
      "8800/8800 [==============================] - 3s 332us/step - loss: 0.5725 - acc: 0.7952 - val_loss: 0.5146 - val_acc: 0.8168\n",
      "Epoch 3/20\n",
      "8800/8800 [==============================] - 3s 326us/step - loss: 0.5092 - acc: 0.8147 - val_loss: 0.4741 - val_acc: 0.8286\n",
      "Epoch 4/20\n",
      "8800/8800 [==============================] - 3s 334us/step - loss: 0.4743 - acc: 0.8273 - val_loss: 0.4805 - val_acc: 0.8236\n",
      "Epoch 5/20\n",
      "8800/8800 [==============================] - 3s 335us/step - loss: 0.4448 - acc: 0.8345 - val_loss: 0.4645 - val_acc: 0.8309\n",
      "Epoch 6/20\n",
      "8800/8800 [==============================] - 3s 335us/step - loss: 0.4237 - acc: 0.8468 - val_loss: 0.4245 - val_acc: 0.8423\n",
      "Epoch 7/20\n",
      "8800/8800 [==============================] - 3s 329us/step - loss: 0.4166 - acc: 0.8492 - val_loss: 0.4333 - val_acc: 0.8400\n",
      "Epoch 8/20\n",
      "8800/8800 [==============================] - 3s 349us/step - loss: 0.4048 - acc: 0.8515 - val_loss: 0.4363 - val_acc: 0.8450\n",
      "Epoch 9/20\n",
      "8800/8800 [==============================] - 3s 338us/step - loss: 0.3885 - acc: 0.8557 - val_loss: 0.4137 - val_acc: 0.8518\n",
      "Epoch 10/20\n",
      "8800/8800 [==============================] - 3s 337us/step - loss: 0.3812 - acc: 0.8602 - val_loss: 0.4320 - val_acc: 0.8377\n",
      "Epoch 11/20\n",
      "8800/8800 [==============================] - 3s 325us/step - loss: 0.3655 - acc: 0.8597 - val_loss: 0.4052 - val_acc: 0.8477\n",
      "Epoch 12/20\n",
      "8800/8800 [==============================] - 3s 339us/step - loss: 0.3540 - acc: 0.8662 - val_loss: 0.4072 - val_acc: 0.8445\n",
      "Epoch 13/20\n",
      "8800/8800 [==============================] - 3s 336us/step - loss: 0.3447 - acc: 0.8691 - val_loss: 0.3886 - val_acc: 0.8595\n",
      "Epoch 14/20\n",
      "8800/8800 [==============================] - 3s 340us/step - loss: 0.3414 - acc: 0.8691 - val_loss: 0.4051 - val_acc: 0.8500\n",
      "Epoch 15/20\n",
      "8800/8800 [==============================] - 3s 358us/step - loss: 0.3311 - acc: 0.8737 - val_loss: 0.3928 - val_acc: 0.8600\n",
      "Epoch 16/20\n",
      "8800/8800 [==============================] - 3s 346us/step - loss: 0.3243 - acc: 0.8781 - val_loss: 0.3827 - val_acc: 0.8577\n",
      "Epoch 17/20\n",
      "8800/8800 [==============================] - 3s 344us/step - loss: 0.3201 - acc: 0.8822 - val_loss: 0.3804 - val_acc: 0.8600\n",
      "Epoch 18/20\n",
      "8800/8800 [==============================] - 3s 365us/step - loss: 0.3108 - acc: 0.8827 - val_loss: 0.3994 - val_acc: 0.8618\n",
      "Epoch 19/20\n",
      "8800/8800 [==============================] - 3s 358us/step - loss: 0.3043 - acc: 0.8861 - val_loss: 0.3976 - val_acc: 0.8600\n",
      "Epoch 20/20\n",
      "8800/8800 [==============================] - 3s 348us/step - loss: 0.2966 - acc: 0.8883 - val_loss: 0.3970 - val_acc: 0.8550\n"
     ]
    },
    {
     "data": {
      "text/plain": [
       "<keras.callbacks.History at 0x1ba549eb780>"
      ]
     },
     "execution_count": 10,
     "metadata": {},
     "output_type": "execute_result"
    }
   ],
   "source": [
    "model.fit(X_train, y_train, nb_epoch=20, batch_size=50, validation_data=(X_test,y_test))"
   ]
  },
  {
   "cell_type": "code",
   "execution_count": 11,
   "metadata": {},
   "outputs": [],
   "source": [
    "#weight -> absolute updation and not relative updation hence normalization\n",
    "#is required.. "
   ]
  },
  {
   "cell_type": "code",
   "execution_count": 12,
   "metadata": {},
   "outputs": [
    {
     "name": "stdout",
     "output_type": "stream",
     "text": [
      "<keras.layers.core.Dense object at 0x000001BA62442630>\n",
      "(784, 512)\n",
      "(512,)\n",
      "dense_1\n",
      "--------------------\n",
      "<keras.layers.core.Activation object at 0x000001BA6202C940>\n",
      "activation_1\n",
      "--------------------\n",
      "<keras.layers.core.Dropout object at 0x000001BA6202C4E0>\n",
      "dropout_1\n",
      "--------------------\n",
      "<keras.layers.core.Dense object at 0x000001BA62442C88>\n",
      "(512, 10)\n",
      "(10,)\n",
      "dense_2\n",
      "--------------------\n",
      "<keras.layers.core.Activation object at 0x000001BA62442BA8>\n",
      "activation_2\n",
      "--------------------\n"
     ]
    }
   ],
   "source": [
    "##to get value of weights for specific values..\n",
    "for layer in model.layers:\n",
    "    print (layer)\n",
    "    if len(layer.get_weights())>0:\n",
    "        print (layer.get_weights()[0].shape)\n",
    "        print (layer.get_weights()[1].shape)\n",
    "    print (layer.get_config()['name'])\n",
    "    print(\"--------------------\")"
   ]
  },
  {
   "cell_type": "code",
   "execution_count": null,
   "metadata": {},
   "outputs": [],
   "source": []
  }
 ],
 "metadata": {
  "kernelspec": {
   "display_name": "Python 3",
   "language": "python",
   "name": "python3"
  },
  "language_info": {
   "codemirror_mode": {
    "name": "ipython",
    "version": 3
   },
   "file_extension": ".py",
   "mimetype": "text/x-python",
   "name": "python",
   "nbconvert_exporter": "python",
   "pygments_lexer": "ipython3",
   "version": "3.6.3"
  }
 },
 "nbformat": 4,
 "nbformat_minor": 2
}
