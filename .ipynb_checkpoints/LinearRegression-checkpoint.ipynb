{
 "cells": [
  {
   "cell_type": "code",
   "execution_count": 2,
   "metadata": {},
   "outputs": [],
   "source": [
    "import numpy as np\n",
    "import matplotlib.pyplot as plt\n",
    "%matplotlib inline\n",
    "from sklearn.datasets import make_regression"
   ]
  },
  {
   "cell_type": "code",
   "execution_count": 5,
   "metadata": {},
   "outputs": [
    {
     "name": "stdout",
     "output_type": "stream",
     "text": [
      "(500L, 1L) (500L,)\n"
     ]
    }
   ],
   "source": [
    "##could see how make_regression works later on..\n",
    "\n",
    "X, y=make_regression(n_samples=500, n_features=1, bias=4.2,noise =5.1)\n",
    "print X.shape, y.shape"
   ]
  },
  {
   "cell_type": "code",
   "execution_count": 8,
   "metadata": {},
   "outputs": [
    {
     "name": "stdout",
     "output_type": "stream",
     "text": [
      "400\n",
      "(400L, 1L)\n",
      "(100L, 1L)\n",
      "(100L,)\n"
     ]
    }
   ],
   "source": [
    "split=int(0.8*X.shape[0])\n",
    "print split\n",
    "\n",
    "X_train=X[:split]\n",
    "X_test=X[split:]\n",
    "\n",
    "y_train=y[:split]\n",
    "y_test=y[split:]\n",
    "\n",
    "print X_train.shape\n",
    "print X_test.shape\n",
    "\n",
    "print y_test.shape"
   ]
  },
  {
   "cell_type": "code",
   "execution_count": null,
   "metadata": {},
   "outputs": [],
   "source": [
    "## Methods we need to write:\n",
    "\n",
    "def hypothesis(x,w):\n",
    "    pass\n",
    "def get_error(x,w,y_true):\n",
    "    pass\n",
    "def get_grad(x,w,y_true):\n",
    "    pass\n",
    "def gradient_descent(x,w,y_true, learning_rate=0.1):\n",
    "    pass"
   ]
  }
 ],
 "metadata": {
  "kernelspec": {
   "display_name": "Python 2",
   "language": "python",
   "name": "python2"
  },
  "language_info": {
   "codemirror_mode": {
    "name": "ipython",
    "version": 2
   },
   "file_extension": ".py",
   "mimetype": "text/x-python",
   "name": "python",
   "nbconvert_exporter": "python",
   "pygments_lexer": "ipython2",
   "version": "2.7.14"
  }
 },
 "nbformat": 4,
 "nbformat_minor": 2
}
