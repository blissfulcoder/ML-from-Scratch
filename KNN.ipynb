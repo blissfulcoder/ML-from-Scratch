{
 "cells": [
  {
   "cell_type": "code",
   "execution_count": 108,
   "metadata": {},
   "outputs": [],
   "source": [
    "import matplotlib.pyplot as plt\n",
    "import numpy as np\n",
    "%matplotlib inline"
   ]
  },
  {
   "cell_type": "code",
   "execution_count": 140,
   "metadata": {},
   "outputs": [],
   "source": [
    "mean_01 =[0.5,1.0]\n",
    "mean_02 =[5.0,6.0]\n",
    "\n",
    "cov_01=[[0.5,0.1],[0.1,0.5]]\n",
    "cov_02=[[1.0,0.1],[0.1,1.0]]\n",
    "dist_01=np.random.multivariate_normal(mean_01,cov_01,500)\n",
    "dist_02=np.random.multivariate_normal(mean_02,cov_02,500)"
   ]
  },
  {
   "cell_type": "code",
   "execution_count": 141,
   "metadata": {},
   "outputs": [
    {
     "data": {
      "image/png": "[encoded data removed]",
      "text/plain": [
       "<matplotlib.figure.Figure at 0xf466710>"
      ]
     },
     "metadata": {},
     "output_type": "display_data"
    }
   ],
   "source": [
    "plt.scatter(dist_01[:,0],dist_01[:,1],color='red')\n",
    "plt.scatter(dist_02[:,0],dist_02[:,1],color='green')\n",
    "plt.show()"
   ]
  },
  {
   "cell_type": "code",
   "execution_count": 142,
   "metadata": {},
   "outputs": [
    {
     "name": "stdout",
     "output_type": "stream",
     "text": [
      "(1000L, 3L)\n"
     ]
    }
   ],
   "source": [
    "rows = dist_01.shape[0]+dist_02.shape[0]\n",
    "cols=dist_01.shape[1]+1\n",
    "\n",
    "data=np.zeros((rows,cols))\n",
    "data[:dist_01.shape[0],:2]=dist_01\n",
    "data[dist_01.shape[0]:,:2]=dist_02\n",
    "data[dist_01.shape[0]:,-1]=1.0\n",
    "print data.shape"
   ]
  },
  {
   "cell_type": "code",
   "execution_count": 143,
   "metadata": {},
   "outputs": [],
   "source": [
    "np.random.shuffle(data)\n",
    "test_Data= data[:10]"
   ]
  },
  {
   "cell_type": "code",
   "execution_count": 161,
   "metadata": {},
   "outputs": [],
   "source": [
    "def distance_euclid(p1,p2):\n",
    "    #Euclidian\n",
    "    d=np.sqrt(((p1-p2)**2).sum())\n",
    "    return d"
   ]
  },
  {
   "cell_type": "code",
   "execution_count": 162,
   "metadata": {},
   "outputs": [],
   "source": [
    "def distance(p1,p2):\n",
    "    # Manhattan distance\n",
    "    d= (abs(p1-p2)).sum()\n",
    "    return d"
   ]
  },
  {
   "cell_type": "code",
   "execution_count": 245,
   "metadata": {},
   "outputs": [],
   "source": [
    "def KNN(X_train, Y_train, xtest, k=5):\n",
    "    vals=[]\n",
    "    for ix in range(X_train.shape[0]):\n",
    "        d=distance_euclid(X_train[ix],xtest)\n",
    "        vals.append([d,Y_train[ix]])\n",
    "        \n",
    "    sorted_vals=sorted(vals, key=lambda z:z[0])\n",
    "    neighbours=np.array(sorted_vals)[:k,-1]\n",
    "    freq=np.unique(neighbours, return_counts=True)\n",
    "    my_ans=freq[0][freq[1].argmax()]\n",
    "    return my_ans"
   ]
  },
  {
   "cell_type": "code",
   "execution_count": 246,
   "metadata": {},
   "outputs": [
    {
     "name": "stdout",
     "output_type": "stream",
     "text": [
      "1.0\n"
     ]
    }
   ],
   "source": [
    "### dataset for input\n",
    "X_train=test_Data[:,:2]\n",
    "Y_train=test_Data[:,-1]\n",
    "x_test=np.array([2.9,2.9])\n",
    "k=3\n",
    "ans=KNN(X_train,Y_train,x_test,3)\n",
    "print ans"
   ]
  },
  {
   "cell_type": "code",
   "execution_count": 247,
   "metadata": {
    "scrolled": true
   },
   "outputs": [
    {
     "name": "stdout",
     "output_type": "stream",
     "text": [
      "(array([0., 1.]), array([135, 115], dtype=int64))\n",
      "(250L, 2L)\n",
      "(250L,)\n"
     ]
    }
   ],
   "source": [
    "## Test and train split\n",
    "\n",
    "split =int(0.25 * data.shape[0])\n",
    "\n",
    "train_x=data[:split,:2]\n",
    "train_y=data[:split,-1]\n",
    "\n",
    "print np.unique(train_y,return_counts=True)\n",
    "\n",
    "test_x=data[split:,:2]\n",
    "test_y=data[split:,-1]\n",
    "\n",
    "print train_x.shape\n",
    "print train_y.shape\n"
   ]
  },
  {
   "cell_type": "code",
   "execution_count": 248,
   "metadata": {},
   "outputs": [],
   "source": [
    "def get_acc(kx,x_train,x_test,y_train,y_test):\n",
    "    preds=[]\n",
    "    for ix in range(x_test.shape[0]):\n",
    "        label=KNN(x_train,y_train,x_test[ix],k=kx)\n",
    "        preds.append(label)\n",
    "    preds=np.array(preds)\n",
    "    return 100*float((preds==y_test).sum())/y_test.shape[0]"
   ]
  },
  {
   "cell_type": "code",
   "execution_count": 249,
   "metadata": {
    "scrolled": true
   },
   "outputs": [
    {
     "data": {
      "text/plain": [
       "99.86666666666666"
      ]
     },
     "execution_count": 249,
     "metadata": {},
     "output_type": "execute_result"
    }
   ],
   "source": [
    "get_acc(1,train_x,test_x,train_y,test_y)"
   ]
  },
  {
   "cell_type": "code",
   "execution_count": 250,
   "metadata": {
    "scrolled": true
   },
   "outputs": [
    {
     "name": "stdout",
     "output_type": "stream",
     "text": [
      "3 | 100.0\n",
      "5 | 99.8666666667\n",
      "7 | 100.0\n"
     ]
    }
   ],
   "source": [
    "for kx in range(3,9,2):\n",
    "    print kx, \"|\", get_acc(kx,train_x,test_x,train_y,test_y)"
   ]
  },
  {
   "cell_type": "code",
   "execution_count": 251,
   "metadata": {},
   "outputs": [],
   "source": [
    "import pandas as pd"
   ]
  },
  {
   "cell_type": "code",
   "execution_count": 219,
   "metadata": {
    "scrolled": false
   },
   "outputs": [],
   "source": [
    "#fashion dataset for MNIST\n",
    "ds=pd.read_csv('d:/ML--perceptron/fashionmnist/fashion-mnist_train.csv')\n",
    "\n",
    "ds.head()\n",
    "fashion_data=ds.values[:3000]\n",
    "print fashion_data.shape"
   ]
  },
  {
   "cell_type": "code",
   "execution_count": 252,
   "metadata": {},
   "outputs": [
    {
     "name": "stdout",
     "output_type": "stream",
     "text": [
      "(array([0, 1, 2, 3, 4, 5, 6, 7, 8, 9], dtype=int64), array([291, 284, 279, 268, 284, 251, 258, 293, 261, 281], dtype=int64))\n"
     ]
    }
   ],
   "source": [
    "#splitting the dataset\n",
    "fashion_split=int(fashion_data.shape[0]*0.8)\n",
    "fashion_train_x=fashion_data[:fashion_split,1:]\n",
    "fashion_train_y=fashion_data[:fashion_split,0]\n",
    "\n",
    "fashion_test_x=fashion_data[split:,1:]\n",
    "fashion_test_y=fashion_data[split:,0]\n",
    "\n",
    "print np.unique(fashion_test_y,return_counts=True)"
   ]
  },
  {
   "cell_type": "code",
   "execution_count": 253,
   "metadata": {},
   "outputs": [
    {
     "data": {
      "text/plain": [
       "87.63636363636364"
      ]
     },
     "execution_count": 253,
     "metadata": {},
     "output_type": "execute_result"
    }
   ],
   "source": [
    "get_acc(2,fashion_train_x,fashion_test_x,fashion_train_y,fashion_test_y)"
   ]
  },
  {
   "cell_type": "code",
   "execution_count": 234,
   "metadata": {},
   "outputs": [
    {
     "data": {
      "image/png": "[encoded data removed]",
      "text/plain": [
       "<matplotlib.figure.Figure at 0xef1b828>"
      ]
     },
     "metadata": {},
     "output_type": "display_data"
    },
    {
     "name": "stdout",
     "output_type": "stream",
     "text": [
      "9\n"
     ]
    }
   ],
   "source": [
    "plt.imshow(fashion_train_x[1].reshape(28,28),cmap='gray')\n",
    "plt.show()\n",
    "print fashion_train_y[1]"
   ]
  },
  {
   "cell_type": "code",
   "execution_count": 242,
   "metadata": {},
   "outputs": [
    {
     "name": "stdout",
     "output_type": "stream",
     "text": [
      "hello\n"
     ]
    }
   ],
   "source": [
    "def my_func(arg1):\n",
    "    '''this is definition'''\n",
    "    print \"hello\"\n",
    "\n",
    "my_func(1) \n",
    "\n",
    "##just learning about docstring comments of functions.."
   ]
  },
  {
   "cell_type": "code",
   "execution_count": 259,
   "metadata": {},
   "outputs": [],
   "source": [
    "import warnings\n",
    "warnings.filterwarnings('ignore')"
   ]
  },
  {
   "cell_type": "code",
   "execution_count": 260,
   "metadata": {},
   "outputs": [],
   "source": [
    "import sklearn\n",
    "from sklearn.neighbors import KNeighborsClassifier"
   ]
  },
  {
   "cell_type": "code",
   "execution_count": 269,
   "metadata": {},
   "outputs": [
    {
     "data": {
      "text/plain": [
       "0.8763636363636363"
      ]
     },
     "execution_count": 269,
     "metadata": {},
     "output_type": "execute_result"
    }
   ],
   "source": [
    "neigh = KNeighborsClassifier(n_neighbors=2)\n",
    "neigh.fit(fashion_train_x,fashion_train_y)\n",
    "neigh.predict(fashion_test_x)\n",
    "neigh.score(fashion_test_x,fashion_test_y)\n"
   ]
  },
  {
   "cell_type": "code",
   "execution_count": null,
   "metadata": {},
   "outputs": [],
   "source": [
    "def get_acc(kx,x_train,x_test,y_train,y_test):\n",
    "    preds=[]\n",
    "    for ix in range(x_test.shape[0]):\n",
    "        label=KNN(x_train,y_train,x_test[ix],k=kx)\n",
    "        preds.append(label)\n",
    "    preds=np.array(preds)\n",
    "    return 100*float((preds==y_test).sum())/y_test.shape[0]"
   ]
  },
  {
   "cell_type": "code",
   "execution_count": null,
   "metadata": {},
   "outputs": [],
   "source": []
  }
 ],
 "metadata": {
  "kernelspec": {
   "display_name": "Python 2",
   "language": "python",
   "name": "python2"
  },
  "language_info": {
   "codemirror_mode": {
    "name": "ipython",
    "version": 2
   },
   "file_extension": ".py",
   "mimetype": "text/x-python",
   "name": "python",
   "nbconvert_exporter": "python",
   "pygments_lexer": "ipython2",
   "version": "2.7.14"
  }
 },
 "nbformat": 4,
 "nbformat_minor": 2
}
