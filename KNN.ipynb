{
 "cells": [
  {
   "cell_type": "code",
   "execution_count": 108,
   "metadata": {},
   "outputs": [],
   "source": [
    "import matplotlib.pyplot as plt\n",
    "import numpy as np\n",
    "%matplotlib inline"
   ]
  },
  {
   "cell_type": "code",
   "execution_count": 140,
   "metadata": {},
   "outputs": [],
   "source": [
    "mean_01 =[0.5,1.0]\n",
    "mean_02 =[5.0,6.0]\n",
    "\n",
    "cov_01=[[0.5,0.1],[0.1,0.5]]\n",
    "cov_02=[[1.0,0.1],[0.1,1.0]]\n",
    "dist_01=np.random.multivariate_normal(mean_01,cov_01,500)\n",
    "dist_02=np.random.multivariate_normal(mean_02,cov_02,500)"
   ]
  },
  {
   "cell_type": "code",
   "execution_count": 141,
   "metadata": {},
   "outputs": [
    {
     "data": {
      "image/png": "[encoded data removed]",
      "text/plain": [
       "<matplotlib.figure.Figure at 0xf466710>"
      ]
     },
     "metadata": {},
     "output_type": "display_data"
    }
   ],
   "source": [
    "plt.scatter(dist_01[:,0],dist_01[:,1],color='red')\n",
    "plt.scatter(dist_02[:,0],dist_02[:,1],color='green')\n",
    "plt.show()"
   ]
  },
  {
   "cell_type": "code",
   "execution_count": 142,
   "metadata": {},
   "outputs": [
    {
     "name": "stdout",
     "output_type": "stream",
     "text": [
      "(1000L, 3L)\n"
     ]
    }
   ],
   "source": [
    "rows = dist_01.shape[0]+dist_02.shape[0]\n",
    "cols=dist_01.shape[1]+1\n",
    "\n",
    "data=np.zeros((rows,cols))\n",
    "data[:dist_01.shape[0],:2]=dist_01\n",
    "data[dist_01.shape[0]:,:2]=dist_02\n",
    "data[dist_01.shape[0]:,-1]=1.0\n",
    "print data.shape"
   ]
  },
  {
   "cell_type": "code",
   "execution_count": 143,
   "metadata": {},
   "outputs": [],
   "source": [
    "np.random.shuffle(data)\n",
    "test_Data= data[:10]"
   ]
  },
  {
   "cell_type": "code",
   "execution_count": 144,
   "metadata": {},
   "outputs": [
    {
     "data": {
      "text/plain": [
       "2.8284271247461903"
      ]
     },
     "execution_count": 144,
     "metadata": {},
     "output_type": "execute_result"
    }
   ],
   "source": [
    "def distance(p1,p2):\n",
    "    d=np.sqrt(((p1-p2)**2).sum())\n",
    "    return d\n",
    "\n",
    "distance(np.array([1.0,1.0]),np.array([3.0,3.0]))"
   ]
  },
  {
   "cell_type": "code",
   "execution_count": 145,
   "metadata": {},
   "outputs": [],
   "source": [
    "def KNN(X_train, Y_train, xtest, k=5):\n",
    "    vals=[]\n",
    "    for ix in range(X_train.shape[0]):\n",
    "        d=distance(X_train[ix],xtest)\n",
    "        vals.append([d,Y_train[ix]])\n",
    "        \n",
    "    sorted_vals=sorted(vals, key=lambda z:z[0])\n",
    "    neighbours=np.array(sorted_vals)[:k,-1]\n",
    "    freq=np.unique(neighbours, return_counts=True)\n",
    "    my_ans=freq[0][freq[1].argmax()]\n",
    "    return my_ans"
   ]
  },
  {
   "cell_type": "code",
   "execution_count": 146,
   "metadata": {},
   "outputs": [
    {
     "name": "stdout",
     "output_type": "stream",
     "text": [
      "1.0\n"
     ]
    }
   ],
   "source": [
    "### dataset for input\n",
    "X_train=test_Data[:,:2]\n",
    "Y_train=test_Data[:,-1]\n",
    "x_test=np.array([2.9,2.9])\n",
    "k=3\n",
    "ans=KNN(X_train,Y_train,x_test,3)\n",
    "print ans"
   ]
  },
  {
   "cell_type": "code",
   "execution_count": 147,
   "metadata": {},
   "outputs": [
    {
     "name": "stdout",
     "output_type": "stream",
     "text": [
      "(array([0., 1.]), array([382, 368], dtype=int64))\n",
      "(750L, 2L)\n",
      "(750L,)\n"
     ]
    }
   ],
   "source": [
    "## Test and train split\n",
    "\n",
    "split =int(0.75 * data.shape[0])\n",
    "\n",
    "train_x=data[:split,:2]\n",
    "train_y=data[:split,-1]\n",
    "\n",
    "print np.unique(train_y,return_counts=True)\n",
    "\n",
    "test_x=data[split:,:2]\n",
    "test_y=data[split:,-1]\n",
    "\n",
    "print train_x.shape\n",
    "print train_y.shape\n"
   ]
  },
  {
   "cell_type": "code",
   "execution_count": 150,
   "metadata": {},
   "outputs": [],
   "source": [
    "def get_acc(kx,x_train,x_test,y_train,y_test):\n",
    "    preds=[]\n",
    "    for ix in range(x_test.shape[0]):\n",
    "        label=KNN(x_train,y_train,x_test[ix],k=kx)\n",
    "        preds.append(label)\n",
    "    preds=np.array(preds)\n",
    "    return 100*float((preds==y_test).sum())/y_test.shape[0]"
   ]
  },
  {
   "cell_type": "code",
   "execution_count": 151,
   "metadata": {},
   "outputs": [
    {
     "data": {
      "text/plain": [
       "100.0"
      ]
     },
     "execution_count": 151,
     "metadata": {},
     "output_type": "execute_result"
    }
   ],
   "source": [
    "get_acc(1,train_x,test_x,train_y,test_y)"
   ]
  },
  {
   "cell_type": "code",
   "execution_count": null,
   "metadata": {},
   "outputs": [],
   "source": []
  }
 ],
 "metadata": {
  "kernelspec": {
   "display_name": "Python 2",
   "language": "python",
   "name": "python2"
  },
  "language_info": {
   "codemirror_mode": {
    "name": "ipython",
    "version": 2
   },
   "file_extension": ".py",
   "mimetype": "text/x-python",
   "name": "python",
   "nbconvert_exporter": "python",
   "pygments_lexer": "ipython2",
   "version": "2.7.14"
  }
 },
 "nbformat": 4,
 "nbformat_minor": 2
}
