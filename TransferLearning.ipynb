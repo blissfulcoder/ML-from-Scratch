{
 "cells": [
  {
   "cell_type": "code",
   "execution_count": 21,
   "metadata": {},
   "outputs": [],
   "source": [
    "import numpy as np\n",
    "import matplotlib.pyplot as plt\n",
    "import pandas as pd\n",
    "from keras.utils import np_utils\n",
    "from keras.layers import Dense, Activation,Flatten, Convolution2D, Dropout, MaxPooling2D\n",
    "from keras.models import Sequential\n",
    "\n",
    "import datetime"
   ]
  },
  {
   "cell_type": "code",
   "execution_count": 22,
   "metadata": {},
   "outputs": [
    {
     "name": "stdout",
     "output_type": "stream",
     "text": [
      "(12000, 785)\n"
     ]
    }
   ],
   "source": [
    "ds = pd.read_csv('d:/ML--perceptron/mnist/train.csv')\n",
    "data = ds.values[:12000]\n",
    "print (data.shape)"
   ]
  },
  {
   "cell_type": "code",
   "execution_count": 23,
   "metadata": {},
   "outputs": [
    {
     "name": "stdout",
     "output_type": "stream",
     "text": [
      "(12000,)\n",
      "(12000,)\n",
      "[False  True]\n",
      "6134\n",
      "---\n",
      "(6134, 785)\n",
      "(5866, 785)\n"
     ]
    }
   ],
   "source": [
    "## Model1 -> (0-4) and model 2 -> (5-9)\n",
    "mask = data[:,0] < 5\n",
    "print (data[:,0].shape)\n",
    "print (mask.shape)\n",
    "print (np.unique(mask))\n",
    "print (mask.sum())\n",
    "\n",
    "data_01 = []\n",
    "data_02 = []\n",
    "\n",
    "for ix in range(data.shape[0]):\n",
    "    if mask[ix] == True:\n",
    "        data_01.append(data[ix])\n",
    "    else:\n",
    "        data_02.append(data[ix])\n",
    "\n",
    "data_01 = np.asarray(data_01)\n",
    "data_02 = np.asarray(data_02)\n",
    "print (\"---\")\n",
    "print (data_01.shape)\n",
    "print (data_02.shape)"
   ]
  },
  {
   "cell_type": "code",
   "execution_count": 31,
   "metadata": {},
   "outputs": [
    {
     "name": "stdout",
     "output_type": "stream",
     "text": [
      "(5213, 28, 28, 1) (921, 28, 28, 1)\n",
      "(5213, 5) (921, 5)\n"
     ]
    }
   ],
   "source": [
    "## data_01 for first network: \n",
    "split = int(0.85*data_01.shape[0])\n",
    "\n",
    "x_tr = data_01[:split, 1:]/255.0\n",
    "x_tes = data_01[split:, 1:]/255.0\n",
    "\n",
    "y_tr = np_utils.to_categorical(data_01[:split,0], nb_classes=5)\n",
    "y_tes = np_utils.to_categorical(data_01[split:, 0], nb_classes=5)\n",
    "\n",
    "x_tr = x_tr.reshape((-1,28,28,1))\n",
    "x_tes = x_tes.reshape((-1,28,28,1))\n",
    "\n",
    "print (x_tr.shape, x_tes.shape)\n",
    "print (y_tr.shape, y_tes.shape)"
   ]
  },
  {
   "cell_type": "code",
   "execution_count": 32,
   "metadata": {},
   "outputs": [
    {
     "name": "stdout",
     "output_type": "stream",
     "text": [
      "____________________________________________________________________________________________________\n",
      "Layer (type)                     Output Shape          Param #     Connected to                     \n",
      "====================================================================================================\n",
      "convolution2d_13 (Convolution2D) (None, 26, 26, 64)    640         convolution2d_input_4[0][0]      \n",
      "____________________________________________________________________________________________________\n",
      "convolution2d_14 (Convolution2D) (None, 24, 24, 32)    18464       convolution2d_13[0][0]           \n",
      "____________________________________________________________________________________________________\n",
      "maxpooling2d_4 (MaxPooling2D)    (None, 12, 12, 32)    0           convolution2d_14[0][0]           \n",
      "____________________________________________________________________________________________________\n",
      "convolution2d_15 (Convolution2D) (None, 10, 10, 16)    4624        maxpooling2d_4[0][0]             \n",
      "____________________________________________________________________________________________________\n",
      "convolution2d_16 (Convolution2D) (None, 8, 8, 8)       1160        convolution2d_15[0][0]           \n",
      "____________________________________________________________________________________________________\n",
      "flatten_4 (Flatten)              (None, 512)           0           convolution2d_16[0][0]           \n",
      "____________________________________________________________________________________________________\n",
      "dense_6 (Dense)                  (None, 100)           51300       flatten_4[0][0]                  \n",
      "____________________________________________________________________________________________________\n",
      "dropout_4 (Dropout)              (None, 100)           0           dense_6[0][0]                    \n",
      "____________________________________________________________________________________________________\n",
      "activation_5 (Activation)        (None, 100)           0           dropout_4[0][0]                  \n",
      "____________________________________________________________________________________________________\n",
      "dense_7 (Dense)                  (None, 5)             505         activation_5[0][0]               \n",
      "____________________________________________________________________________________________________\n",
      "activation_6 (Activation)        (None, 5)             0           dense_7[0][0]                    \n",
      "====================================================================================================\n",
      "Total params: 76,693\n",
      "Trainable params: 76,693\n",
      "Non-trainable params: 0\n",
      "____________________________________________________________________________________________________\n"
     ]
    }
   ],
   "source": [
    "model = Sequential()\n",
    "\n",
    "model.add(Convolution2D(64,3,3, input_shape = (28,28,1), activation='relu'))\n",
    "model.add(Convolution2D(32,3,3, activation='relu'))\n",
    "\n",
    "model.add(MaxPooling2D(pool_size=(2,2)))\n",
    "\n",
    "model.add(Convolution2D(16,3,3, activation='relu'))\n",
    "model.add(Convolution2D(8,3,3, activation='relu'))\n",
    "\n",
    "model.add(Flatten())\n",
    "\n",
    "model.add(Dense(100))\n",
    "model.add(Dropout(0.5))\n",
    "model.add(Activation('relu'))\n",
    "\n",
    "model.add(Dense(5))\n",
    "model.add(Activation('softmax'))\n",
    "model.summary()"
   ]
  },
  {
   "cell_type": "code",
   "execution_count": 33,
   "metadata": {},
   "outputs": [],
   "source": [
    "model.compile(loss='categorical_crossentropy', optimizer='adam', metrics=['accuracy'])"
   ]
  },
  {
   "cell_type": "code",
   "execution_count": 34,
   "metadata": {},
   "outputs": [
    {
     "name": "stdout",
     "output_type": "stream",
     "text": [
      "0:00:00\n"
     ]
    }
   ],
   "source": [
    "start = datetime.datetime.now()\n",
    "ans = start - datetime.datetime.now()\n",
    "print (ans)"
   ]
  },
  {
   "cell_type": "code",
   "execution_count": 36,
   "metadata": {},
   "outputs": [
    {
     "name": "stdout",
     "output_type": "stream",
     "text": [
      "Train on 5213 samples, validate on 921 samples\n",
      "Epoch 1/5\n",
      "23s - loss: 0.1523 - acc: 0.9555 - val_loss: 0.0632 - val_acc: 0.9783\n",
      "Epoch 2/5\n",
      "27s - loss: 0.0881 - acc: 0.9762 - val_loss: 0.0425 - val_acc: 0.9805\n",
      "Epoch 3/5\n",
      "25s - loss: 0.0611 - acc: 0.9824 - val_loss: 0.0364 - val_acc: 0.9859\n",
      "Epoch 4/5\n",
      "22s - loss: 0.0389 - acc: 0.9875 - val_loss: 0.0501 - val_acc: 0.9848\n",
      "Epoch 5/5\n",
      "22s - loss: 0.0359 - acc: 0.9893 - val_loss: 0.0409 - val_acc: 0.9848\n"
     ]
    }
   ],
   "source": [
    "hist = model.fit(x_tr,y_tr,batch_size=16, nb_epoch=5, verbose=2, validation_data=(x_tes,y_tes))"
   ]
  },
  {
   "cell_type": "code",
   "execution_count": null,
   "metadata": {},
   "outputs": [],
   "source": []
  }
 ],
 "metadata": {
  "kernelspec": {
   "display_name": "Python 3",
   "language": "python",
   "name": "python3"
  },
  "language_info": {
   "codemirror_mode": {
    "name": "ipython",
    "version": 3
   },
   "file_extension": ".py",
   "mimetype": "text/x-python",
   "name": "python",
   "nbconvert_exporter": "python",
   "pygments_lexer": "ipython3",
   "version": "3.6.3"
  }
 },
 "nbformat": 4,
 "nbformat_minor": 2
}
