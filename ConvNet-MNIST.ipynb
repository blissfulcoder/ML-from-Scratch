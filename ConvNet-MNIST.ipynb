{
 "cells": [
  {
   "cell_type": "code",
   "execution_count": 3,
   "metadata": {},
   "outputs": [
    {
     "name": "stderr",
     "output_type": "stream",
     "text": [
      "Using TensorFlow backend.\n"
     ]
    }
   ],
   "source": [
    "import numpy as np\n",
    "from keras.utils import np_utils\n",
    "from keras.models import Sequential\n",
    "from keras.layers import Convolution2D, Dense, Activation, Dropout, Flatten, MaxPooling2D"
   ]
  },
  {
   "cell_type": "code",
   "execution_count": 4,
   "metadata": {},
   "outputs": [],
   "source": [
    "import pandas as pd"
   ]
  },
  {
   "cell_type": "code",
   "execution_count": 5,
   "metadata": {},
   "outputs": [
    {
     "name": "stdout",
     "output_type": "stream",
     "text": [
      "(3500, 785)\n"
     ]
    }
   ],
   "source": [
    "ds = pd.read_csv('D:/ML--perceptron/mnist/train.csv')\n",
    "data = ds.values[1000:4500]\n",
    "print (data.shape)"
   ]
  },
  {
   "cell_type": "code",
   "execution_count": 6,
   "metadata": {},
   "outputs": [
    {
     "name": "stdout",
     "output_type": "stream",
     "text": [
      "[0 1 2 3 4 5 6 7 8 9]\n",
      "(3500, 10)\n"
     ]
    }
   ],
   "source": [
    "X = data[:, 1:]\n",
    "y = data[:, 0]\n",
    "Y = np_utils.to_categorical(y)\n",
    "print (np.unique(y))\n",
    "print (Y.shape)"
   ]
  },
  {
   "cell_type": "code",
   "execution_count": 14,
   "metadata": {},
   "outputs": [
    {
     "name": "stdout",
     "output_type": "stream",
     "text": [
      "_________________________________________________________________\n",
      "Layer (type)                 Output Shape              Param #   \n",
      "=================================================================\n",
      "conv2d_4 (Conv2D)            (None, 26, 26, 32)        320       \n",
      "_________________________________________________________________\n",
      "activation_5 (Activation)    (None, 26, 26, 32)        0         \n",
      "_________________________________________________________________\n",
      "conv2d_5 (Conv2D)            (None, 24, 24, 64)        18496     \n",
      "_________________________________________________________________\n",
      "activation_6 (Activation)    (None, 24, 24, 64)        0         \n",
      "_________________________________________________________________\n",
      "max_pooling2d_2 (MaxPooling2 (None, 12, 12, 64)        0         \n",
      "_________________________________________________________________\n",
      "conv2d_6 (Conv2D)            (None, 10, 10, 16)        9232      \n",
      "_________________________________________________________________\n",
      "activation_7 (Activation)    (None, 10, 10, 16)        0         \n",
      "_________________________________________________________________\n",
      "flatten_2 (Flatten)          (None, 1600)              0         \n",
      "_________________________________________________________________\n",
      "dropout_1 (Dropout)          (None, 1600)              0         \n",
      "_________________________________________________________________\n",
      "dense_2 (Dense)              (None, 10)                16010     \n",
      "_________________________________________________________________\n",
      "activation_8 (Activation)    (None, 10)                0         \n",
      "=================================================================\n",
      "Total params: 44,058\n",
      "Trainable params: 44,058\n",
      "Non-trainable params: 0\n",
      "_________________________________________________________________\n"
     ]
    },
    {
     "name": "stderr",
     "output_type": "stream",
     "text": [
      "c:\\python\\python36\\lib\\site-packages\\ipykernel_launcher.py:3: UserWarning: Update your `Conv2D` call to the Keras 2 API: `Conv2D(32, (3, 3), input_shape=(28, 28, 1...)`\n",
      "  This is separate from the ipykernel package so we can avoid doing imports until\n",
      "c:\\python\\python36\\lib\\site-packages\\ipykernel_launcher.py:7: UserWarning: Update your `Conv2D` call to the Keras 2 API: `Conv2D(64, (3, 3))`\n",
      "  import sys\n",
      "c:\\python\\python36\\lib\\site-packages\\ipykernel_launcher.py:14: UserWarning: Update your `Conv2D` call to the Keras 2 API: `Conv2D(16, (3, 3))`\n",
      "  \n"
     ]
    }
   ],
   "source": [
    "model = Sequential()\n",
    "## Convolution--Block 1:\n",
    "model.add(Convolution2D(32,3,3, input_shape=(28,28,1)))\n",
    "model.add(Activation('relu'))\n",
    "\n",
    "## Convolution--Block 2 -> (b,26,26,32)\n",
    "model.add(Convolution2D(64,3,3))\n",
    "model.add(Activation('relu'))\n",
    "\n",
    "##Maxpooling Layer :- To Downsample ## (b,24,24,16)\n",
    "model.add(MaxPooling2D(pool_size=(2,2)))\n",
    "\n",
    "## Convolution Block 3: (b,12,12,16)\n",
    "model.add(Convolution2D(16,3,3))\n",
    "model.add(Activation('relu'))\n",
    "\n",
    "## Shape: (b,10,10,8)\n",
    "## Flatten\n",
    "model.add(Flatten())\n",
    "\n",
    "## Shape :- (b,800)\n",
    "model.add(Dropout(0.25))\n",
    "model.add(Dense(10))\n",
    "model.add(Activation('softmax'))\n",
    "\n",
    "model.summary()"
   ]
  },
  {
   "cell_type": "code",
   "execution_count": 15,
   "metadata": {},
   "outputs": [],
   "source": [
    "## only 14,000 parameters instead of millions of paramters in fully connected."
   ]
  },
  {
   "cell_type": "code",
   "execution_count": 25,
   "metadata": {},
   "outputs": [],
   "source": [
    "model.compile(loss='categorical_crossentropy',optimizer='adam',metrics=['accuracy'])"
   ]
  },
  {
   "cell_type": "code",
   "execution_count": 17,
   "metadata": {},
   "outputs": [
    {
     "name": "stdout",
     "output_type": "stream",
     "text": [
      "(2800, 28, 28, 1)\n",
      "(700, 28, 28, 1)\n"
     ]
    }
   ],
   "source": [
    "X_train = X[:split].reshape((X[:split].shape[0],28,28,1))\n",
    "print (X_train.shape)\n",
    "X_test = X[split:].reshape((X[split:].shape[0],28,28,1))\n",
    "print (X_test.shape)"
   ]
  },
  {
   "cell_type": "code",
   "execution_count": 24,
   "metadata": {},
   "outputs": [],
   "source": [
    "\n",
    "split = int(0.8*data.shape[0])\n",
    "#print X[:split].shape\n",
    "#print X[split:].shape\n",
    "X_train = X[:split].reshape((-1, 28, 28, 1))\n",
    "X_test = X[split:].reshape((-1, 28, 28, 1))\n",
    "\n",
    "Y_train = Y[:split]\n",
    "Y_test = Y[split:]"
   ]
  },
  {
   "cell_type": "code",
   "execution_count": 26,
   "metadata": {},
   "outputs": [
    {
     "name": "stderr",
     "output_type": "stream",
     "text": [
      "c:\\python\\python36\\lib\\site-packages\\keras\\models.py:942: UserWarning: The `nb_epoch` argument in `fit` has been renamed `epochs`.\n",
      "  warnings.warn('The `nb_epoch` argument in `fit` '\n"
     ]
    },
    {
     "name": "stdout",
     "output_type": "stream",
     "text": [
      "Train on 2800 samples, validate on 700 samples\n",
      "Epoch 1/12\n",
      " - 9s - loss: 4.5547 - acc: 0.5039 - val_loss: 0.4587 - val_acc: 0.8500\n",
      "Epoch 2/12\n",
      " - 7s - loss: 0.4057 - acc: 0.8832 - val_loss: 0.1820 - val_acc: 0.9429\n",
      "Epoch 3/12\n",
      " - 8s - loss: 0.2238 - acc: 0.9375 - val_loss: 0.1747 - val_acc: 0.9486\n",
      "Epoch 4/12\n",
      " - 9s - loss: 0.1755 - acc: 0.9461 - val_loss: 0.1308 - val_acc: 0.9543\n",
      "Epoch 5/12\n",
      " - 9s - loss: 0.1189 - acc: 0.9611 - val_loss: 0.1572 - val_acc: 0.9571\n",
      "Epoch 6/12\n",
      " - 8s - loss: 0.0972 - acc: 0.9696 - val_loss: 0.1339 - val_acc: 0.9600\n",
      "Epoch 7/12\n",
      " - 8s - loss: 0.0707 - acc: 0.9764 - val_loss: 0.1238 - val_acc: 0.9600\n",
      "Epoch 8/12\n",
      " - 7s - loss: 0.0543 - acc: 0.9821 - val_loss: 0.2671 - val_acc: 0.9329\n",
      "Epoch 9/12\n",
      " - 9s - loss: 0.0630 - acc: 0.9800 - val_loss: 0.1287 - val_acc: 0.9629\n",
      "Epoch 10/12\n",
      " - 8s - loss: 0.0527 - acc: 0.9821 - val_loss: 0.1383 - val_acc: 0.9629\n",
      "Epoch 11/12\n",
      " - 8s - loss: 0.0619 - acc: 0.9818 - val_loss: 0.1175 - val_acc: 0.9671\n",
      "Epoch 12/12\n",
      " - 7s - loss: 0.0438 - acc: 0.9850 - val_loss: 0.1701 - val_acc: 0.9586\n"
     ]
    }
   ],
   "source": [
    "hist = model.fit(X_train, Y_train, validation_data=(X_test, Y_test), nb_epoch=12, batch_size=16, verbose=2)"
   ]
  },
  {
   "cell_type": "code",
   "execution_count": null,
   "metadata": {},
   "outputs": [],
   "source": []
  }
 ],
 "metadata": {
  "kernelspec": {
   "display_name": "Python 3",
   "language": "python",
   "name": "python3"
  },
  "language_info": {
   "codemirror_mode": {
    "name": "ipython",
    "version": 3
   },
   "file_extension": ".py",
   "mimetype": "text/x-python",
   "name": "python",
   "nbconvert_exporter": "python",
   "pygments_lexer": "ipython3",
   "version": "3.6.3"
  }
 },
 "nbformat": 4,
 "nbformat_minor": 2
}
