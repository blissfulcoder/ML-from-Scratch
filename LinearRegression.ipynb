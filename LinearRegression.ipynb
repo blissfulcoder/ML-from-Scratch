{
 "cells": [
  {
   "cell_type": "code",
   "execution_count": 63,
   "metadata": {},
   "outputs": [],
   "source": [
    "import numpy as np\n",
    "import matplotlib.pyplot as plt\n",
    "%matplotlib inline\n",
    "from sklearn.datasets import make_regression"
   ]
  },
  {
   "cell_type": "code",
   "execution_count": 64,
   "metadata": {},
   "outputs": [
    {
     "name": "stdout",
     "output_type": "stream",
     "text": [
      "(500L, 1L) (500L,)\n"
     ]
    }
   ],
   "source": [
    "##could see how make_regression works later on..\n",
    "\n",
    "X, y=make_regression(n_samples=500, n_features=1, bias=4.2,noise =5.1)\n",
    "print X.shape, y.shape"
   ]
  },
  {
   "cell_type": "code",
   "execution_count": 65,
   "metadata": {},
   "outputs": [
    {
     "name": "stdout",
     "output_type": "stream",
     "text": [
      "400\n",
      "(400L, 1L)\n",
      "(100L, 1L)\n",
      "(100L,)\n"
     ]
    }
   ],
   "source": [
    "split=int(0.8*X.shape[0])\n",
    "print split\n",
    "\n",
    "X_train=X[:split]\n",
    "X_test=X[split:]\n",
    "\n",
    "y_train=y[:split]\n",
    "y_test=y[split:]\n",
    "\n",
    "print X_train.shape\n",
    "print X_test.shape\n",
    "\n",
    "print y_test.shape"
   ]
  },
  {
   "cell_type": "code",
   "execution_count": 92,
   "metadata": {},
   "outputs": [],
   "source": [
    "## Methods we need to write:\n",
    "\n",
    "def hypothesis(x,w): ## can try other experiments on this too...\n",
    "    x0=1\n",
    "    return w[0]*x0 + (x)*[1] ## using linear mapping for single input data\n",
    "def get_error(x,w,y_true):\n",
    "    err=0.0\n",
    "    m=x.shape[0]\n",
    "    \n",
    "    for ix in range(m):\n",
    "        err+=(y_true[ix]-hypothesis(x[ix],w))**2\n",
    "        \n",
    "    err=err/(2*m)\n",
    "    return err"
   ]
  },
  {
   "cell_type": "code",
   "execution_count": 93,
   "metadata": {},
   "outputs": [],
   "source": [
    "def get_grad(x,w,y_true):\n",
    "    grad_0=0.0\n",
    "    grad_1=0.0\n",
    "    \n",
    "    m=x.shape[0]\n",
    "    \n",
    "    for ix in range(m):\n",
    "        grad_0+=(y_true[ix] - hypothesis(x[ix],w))*(-1)\n",
    "        grad_1+=(y_true[ix]-hypothesis(x[ix],w))*(-1*x[ix])\n",
    "        \n",
    "    grad_0=grad_0/m\n",
    "    grad_1=grad_1/m\n",
    "    \n",
    "    return [grad_0,grad_1]\n",
    "\n",
    "def get_stochatic_grad(x_sample,w,y_true):\n",
    "    grad_0=0.0\n",
    "    grad_1=0.0\n",
    "    \n",
    "    grad_0=(y_true-hypothesis(x_sample,w))*(-1)\n",
    "    grad_1=(y_true-hypothesis(x_sample,w))*(-1*x_sample)\n",
    "    \n",
    "    grad_0=grad_0\n",
    "    grad_1=grad_1\n",
    "    \n",
    "    return [grad_0,grad_1]"
   ]
  },
  {
   "cell_type": "code",
   "execution_count": 94,
   "metadata": {},
   "outputs": [],
   "source": [
    "def gradient_descent(x,w,y_true, learning_rate=0.1):\n",
    "    error=get_error(x,w,y_true)\n",
    "    \n",
    "    [grad_0, grad_1]=get_grad(x,w,y_true)\n",
    "    \n",
    "    w[0]=w[0]-learning_rate*grad_0\n",
    "    w[1]=w[1]-learning_rate*grad_1\n",
    "    \n",
    "    return error,w"
   ]
  },
  {
   "cell_type": "code",
   "execution_count": 95,
   "metadata": {},
   "outputs": [],
   "source": [
    "def stochastic_gradient_descent(x,w,y_true,learning_rate=0.1):\n",
    "    error=get_error(x,w,y_true)\n",
    "    \n",
    "    for ix in range(x.shape[0]):\n",
    "        [grad_0,grad_1]=get_stochatic_grad(x[ix],w,y_true[ix])\n",
    "        \n",
    "        w[0]=w[0]-learning_rate*grad_0\n",
    "        w[1]=w[1]-learning_rate*grad_1\n",
    "        \n",
    "    return error,w"
   ]
  },
  {
   "cell_type": "code",
   "execution_count": 96,
   "metadata": {},
   "outputs": [],
   "source": [
    "W=np.array([0.1,0.1])\n",
    "loss=[]"
   ]
  },
  {
   "cell_type": "code",
   "execution_count": 97,
   "metadata": {},
   "outputs": [
    {
     "name": "stdout",
     "output_type": "stream",
     "text": [
      "[ 4.05601211 91.63064154]\n"
     ]
    }
   ],
   "source": [
    "for ix in range(400):\n",
    "    er,W=gradient_descent(X_train,W,y_train,learning_rate=0.01)\n",
    "    loss.append(er)\n",
    "\n",
    "print W"
   ]
  },
  {
   "cell_type": "code",
   "execution_count": 98,
   "metadata": {},
   "outputs": [
    {
     "data": {
      "image/png": "[encoded data removed]",
      "text/plain": [
       "<matplotlib.figure.Figure at 0x1f373da0>"
      ]
     },
     "metadata": {},
     "output_type": "display_data"
    },
    {
     "name": "stdout",
     "output_type": "stream",
     "text": [
      "[307.77859888]\n"
     ]
    }
   ],
   "source": [
    "plt.plot(loss)\n",
    "plt.show()\n",
    "print loss[-1]"
   ]
  },
  {
   "cell_type": "code",
   "execution_count": 99,
   "metadata": {},
   "outputs": [],
   "source": [
    "from sklearn.linear_model import LinearRegression"
   ]
  },
  {
   "cell_type": "code",
   "execution_count": 100,
   "metadata": {},
   "outputs": [],
   "source": [
    "lr=LinearRegression() ##greedily chooses the weights..\n",
    "u=lr.fit(X_train,y_train)"
   ]
  },
  {
   "cell_type": "code",
   "execution_count": 101,
   "metadata": {},
   "outputs": [
    {
     "data": {
      "text/plain": [
       "0.9648349573655703"
      ]
     },
     "execution_count": 101,
     "metadata": {},
     "output_type": "execute_result"
    }
   ],
   "source": [
    "lr.score(X_test,y_test)"
   ]
  },
  {
   "cell_type": "code",
   "execution_count": null,
   "metadata": {},
   "outputs": [],
   "source": []
  }
 ],
 "metadata": {
  "kernelspec": {
   "display_name": "Python 2",
   "language": "python",
   "name": "python2"
  },
  "language_info": {
   "codemirror_mode": {
    "name": "ipython",
    "version": 2
   },
   "file_extension": ".py",
   "mimetype": "text/x-python",
   "name": "python",
   "nbconvert_exporter": "python",
   "pygments_lexer": "ipython2",
   "version": "2.7.14"
  }
 },
 "nbformat": 4,
 "nbformat_minor": 2
}
