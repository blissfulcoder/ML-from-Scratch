{
 "cells": [
  {
   "cell_type": "code",
   "execution_count": 15,
   "metadata": {},
   "outputs": [],
   "source": [
    "import numpy as np\n",
    "import re # for regular expression, in interviews automata ques. directly eg. \n",
    "#compiler type ques.. etc..\n",
    "import random\n",
    "import matplotlib.pyplot as plt\n",
    "%matplotlib inline "
   ]
  },
  {
   "cell_type": "code",
   "execution_count": 18,
   "metadata": {},
   "outputs": [],
   "source": [
    "f = open('d:/ML--perceptron/data/cano.txt')\n",
    "ds = f.read()\n",
    "f.close()"
   ]
  },
  {
   "cell_type": "code",
   "execution_count": 45,
   "metadata": {},
   "outputs": [],
   "source": [
    "start = 2600\n",
    "length = 50000\n",
    "data=' '.join([ix.strip() for ix in ds[start:start+length].split('\\n')]).lower()\n",
    "# it splits about \\n i.e eof makes a list of all words, ix takes that word,\n",
    "# strips remove white spaces.. and then all are joined with spaces.."
   ]
  },
  {
   "cell_type": "code",
   "execution_count": 46,
   "metadata": {},
   "outputs": [
    {
     "name": "stdout",
     "output_type": "stream",
     "text": [
      "45717\n"
     ]
    }
   ],
   "source": [
    "print (len(data))"
   ]
  },
  {
   "cell_type": "code",
   "execution_count": 47,
   "metadata": {},
   "outputs": [],
   "source": [
    "T = {} #transition matrix..\n",
    "\n",
    "##order for our markov chain :\n",
    "order = 3\n",
    "for cx in range(len(data)-order):\n",
    "    \n",
    "    ##contextual information\n",
    "    cntx = data[cx:cx+order]\n",
    "    future_val = data[cx+order]\n",
    "    if T.get(cntx) is None:\n",
    "        T[cntx] = {} #new dictionary..\n",
    "        T[cntx][future_val]=1 #dictionary of dictionary..\n",
    "    else:\n",
    "        if T[cntx].get(future_val) is None:\n",
    "            T[cntx][future_val] = 1\n",
    "        else:\n",
    "            T[cntx][future_val] = T[cntx][future_val] + 1\n",
    "    "
   ]
  },
  {
   "cell_type": "code",
   "execution_count": 50,
   "metadata": {},
   "outputs": [
    {
     "name": "stdout",
     "output_type": "stream",
     "text": [
      "the -- {' ': 398, 'r': 87, 'd': 1, 'i': 8, 'n': 10, 's': 16, 'm': 13, 'y': 18, 'o': 5, 't': 1} 557.0\n",
      "he  -- {'b': 26, 'a': 34, 'm': 29, 't': 32, 's': 74, 'p': 31, 'c': 42, 'l': 23, 'v': 10, 'r': 28, 'd': 18, 'g': 14, 'f': 20, 'y': 1, 'u': 9, 'e': 14, 'h': 53, 'w': 41, 'n': 12, 'i': 15, 'o': 8, 'q': 4, \"'\": 1, 'k': 6, '4': 1, 'j': 1} 547.0\n",
      "e b -- {'l': 7, 'e': 18, 'o': 7, 'r': 6, 'a': 5, 'u': 5, 'y': 2} 50.0\n",
      " bl -- {'a': 5, 'e': 2, 'u': 3, 'o': 10} 20.0\n",
      "bla -- {'n': 5, 'm': 1} 6.0\n",
      "lan -- {'c': 13, 'd': 10, 'e': 1, 'k': 4, 't': 3, 'y': 1} 32.0\n"
     ]
    }
   ],
   "source": [
    "count = 0\n",
    "for kx in T.keys():\n",
    "    possible =T[kx]\n",
    "    s = float(sum(possible.values()))\n",
    "    if count>5:\n",
    "        break\n",
    "    count+=1\n",
    "    print(kx, \"--\", possible,s)"
   ]
  },
  {
   "cell_type": "code",
   "execution_count": null,
   "metadata": {},
   "outputs": [],
   "source": []
  }
 ],
 "metadata": {
  "kernelspec": {
   "display_name": "Python 3",
   "language": "python",
   "name": "python3"
  },
  "language_info": {
   "codemirror_mode": {
    "name": "ipython",
    "version": 3
   },
   "file_extension": ".py",
   "mimetype": "text/x-python",
   "name": "python",
   "nbconvert_exporter": "python",
   "pygments_lexer": "ipython3",
   "version": "3.6.3"
  }
 },
 "nbformat": 4,
 "nbformat_minor": 2
}
