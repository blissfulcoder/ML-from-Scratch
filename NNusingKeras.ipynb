{
 "cells": [
  {
   "cell_type": "code",
   "execution_count": 1,
   "metadata": {},
   "outputs": [
    {
     "name": "stderr",
     "output_type": "stream",
     "text": [
      "Using TensorFlow backend.\n"
     ]
    }
   ],
   "source": [
    "import numpy as np\n",
    "import matplotlib.pyplot as plt\n",
    "%matplotlib inline\n",
    "from sklearn.datasets import make_circles\n",
    "import keras\n",
    "from keras.utils import np_utils\n",
    "from keras.layers import Dense, Activation\n",
    "from keras.models import Sequential"
   ]
  },
  {
   "cell_type": "code",
   "execution_count": 3,
   "metadata": {},
   "outputs": [
    {
     "name": "stdout",
     "output_type": "stream",
     "text": [
      "(1000, 2) (1000,)\n"
     ]
    }
   ],
   "source": [
    "X, y = make_circles(n_samples=1000, factor=0.4)\n",
    "print (X.shape, y.shape)"
   ]
  },
  {
   "cell_type": "code",
   "execution_count": 4,
   "metadata": {},
   "outputs": [
    {
     "data": {
      "image/png": "[encoded data removed]",
      "text/plain": [
       "<matplotlib.figure.Figure at 0x258e55dbdd8>"
      ]
     },
     "metadata": {},
     "output_type": "display_data"
    }
   ],
   "source": [
    "\n",
    "plt.scatter(X[:, 0], X[:, 1])\n",
    "plt.show()"
   ]
  },
  {
   "cell_type": "code",
   "execution_count": 5,
   "metadata": {},
   "outputs": [
    {
     "data": {
      "image/png": "[encoded data removed]",
      "text/plain": [
       "<matplotlib.figure.Figure at 0x258e560ffd0>"
      ]
     },
     "metadata": {},
     "output_type": "display_data"
    }
   ],
   "source": [
    "for ix in range(X.shape[0]):\n",
    "    if y[ix] == 0:\n",
    "        plt.scatter(X[ix, 0], X[ix, 1], color='red')\n",
    "    else:\n",
    "        plt.scatter(X[ix, 0], X[ix, 1], color='green')\n",
    "\n",
    "plt.show()"
   ]
  },
  {
   "cell_type": "code",
   "execution_count": 7,
   "metadata": {},
   "outputs": [
    {
     "name": "stdout",
     "output_type": "stream",
     "text": [
      "(1000, 2)\n",
      "[0. 1.] --- 1\n",
      "[1. 0.] --- 0\n",
      "[0. 1.] --- 1\n",
      "[0. 1.] --- 1\n",
      "[0. 1.] --- 1\n",
      "[1. 0.] --- 0\n",
      "[1. 0.] --- 0\n",
      "[0. 1.] --- 1\n",
      "[0. 1.] --- 1\n",
      "[0. 1.] --- 1\n"
     ]
    }
   ],
   "source": [
    "\n",
    "Y = np_utils.to_categorical(y)\n",
    "print (Y.shape)\n",
    "\n",
    "for ix in range(10):\n",
    "    print (Y[ix], \"---\", y[ix])"
   ]
  },
  {
   "cell_type": "code",
   "execution_count": 9,
   "metadata": {},
   "outputs": [
    {
     "name": "stdout",
     "output_type": "stream",
     "text": [
      "(800, 2)\n"
     ]
    }
   ],
   "source": [
    "split = int(0.8*X.shape[0])\n",
    "X_train = X[:split,:]\n",
    "X_test = X[split:,:]\n",
    "\n",
    "y_train = Y[:split]\n",
    "y_test = Y[split:]\n",
    "\n",
    "print (X_train.shape)"
   ]
  },
  {
   "cell_type": "code",
   "execution_count": 10,
   "metadata": {},
   "outputs": [
    {
     "name": "stdout",
     "output_type": "stream",
     "text": [
      "_________________________________________________________________\n",
      "Layer (type)                 Output Shape              Param #   \n",
      "=================================================================\n",
      "dense_1 (Dense)              (None, 5)                 15        \n",
      "_________________________________________________________________\n",
      "activation_1 (Activation)    (None, 5)                 0         \n",
      "_________________________________________________________________\n",
      "dense_2 (Dense)              (None, 2)                 12        \n",
      "_________________________________________________________________\n",
      "activation_2 (Activation)    (None, 2)                 0         \n",
      "=================================================================\n",
      "Total params: 27\n",
      "Trainable params: 27\n",
      "Non-trainable params: 0\n",
      "_________________________________________________________________\n"
     ]
    }
   ],
   "source": [
    "\n",
    "## NN in keras\n",
    "model = Sequential()\n",
    "\n",
    "model.add(Dense(5,input_shape = (2,)))\n",
    "model.add(Activation('relu'))\n",
    "\n",
    "model.add(Dense(2))\n",
    "model.add(Activation('softmax'))\n",
    "\n",
    "model.summary()"
   ]
  },
  {
   "cell_type": "code",
   "execution_count": 11,
   "metadata": {},
   "outputs": [
    {
     "name": "stdout",
     "output_type": "stream",
     "text": [
      "_________________________________________________________________\n",
      "Layer (type)                 Output Shape              Param #   \n",
      "=================================================================\n",
      "dense_3 (Dense)              (None, 2)                 6         \n",
      "_________________________________________________________________\n",
      "dense_4 (Dense)              (None, 5)                 15        \n",
      "_________________________________________________________________\n",
      "dense_5 (Dense)              (None, 5)                 30        \n",
      "_________________________________________________________________\n",
      "dense_6 (Dense)              (None, 5)                 30        \n",
      "_________________________________________________________________\n",
      "dense_7 (Dense)              (None, 5)                 30        \n",
      "_________________________________________________________________\n",
      "dense_8 (Dense)              (None, 5)                 30        \n",
      "=================================================================\n",
      "Total params: 141\n",
      "Trainable params: 141\n",
      "Non-trainable params: 0\n",
      "_________________________________________________________________\n"
     ]
    }
   ],
   "source": [
    "\n",
    "model2 = Sequential()\n",
    "\n",
    "model2.add(Dense(2, input_shape=(2,)))\n",
    "for ix in range(5):\n",
    "    model2.add(Dense(5))\n",
    "model2.summary()"
   ]
  },
  {
   "cell_type": "code",
   "execution_count": 12,
   "metadata": {},
   "outputs": [],
   "source": [
    "model.compile(optimizer='adagrad', loss='categorical_crossentropy', metrics=['accuracy'])"
   ]
  },
  {
   "cell_type": "code",
   "execution_count": 13,
   "metadata": {},
   "outputs": [
    {
     "name": "stderr",
     "output_type": "stream",
     "text": [
      "c:\\python\\python36\\lib\\site-packages\\keras\\models.py:942: UserWarning: The `nb_epoch` argument in `fit` has been renamed `epochs`.\n",
      "  warnings.warn('The `nb_epoch` argument in `fit` '\n"
     ]
    },
    {
     "name": "stdout",
     "output_type": "stream",
     "text": [
      "Train on 800 samples, validate on 200 samples\n",
      "Epoch 1/100\n",
      " - 0s - loss: 0.6723 - acc: 0.5062 - val_loss: 0.6680 - val_acc: 0.5450\n",
      "Epoch 2/100\n",
      " - 0s - loss: 0.6572 - acc: 0.5300 - val_loss: 0.6571 - val_acc: 0.5600\n",
      "Epoch 3/100\n",
      " - 0s - loss: 0.6477 - acc: 0.5400 - val_loss: 0.6487 - val_acc: 0.5750\n",
      "Epoch 4/100\n",
      " - 0s - loss: 0.6401 - acc: 0.5500 - val_loss: 0.6416 - val_acc: 0.5900\n",
      "Epoch 5/100\n",
      " - 0s - loss: 0.6336 - acc: 0.5663 - val_loss: 0.6353 - val_acc: 0.5950\n",
      "Epoch 6/100\n",
      " - 0s - loss: 0.6278 - acc: 0.5775 - val_loss: 0.6297 - val_acc: 0.5950\n",
      "Epoch 7/100\n",
      " - 0s - loss: 0.6226 - acc: 0.5925 - val_loss: 0.6245 - val_acc: 0.6100\n",
      "Epoch 8/100\n",
      " - 0s - loss: 0.6178 - acc: 0.6050 - val_loss: 0.6198 - val_acc: 0.6300\n",
      "Epoch 9/100\n",
      " - 0s - loss: 0.6132 - acc: 0.6412 - val_loss: 0.6153 - val_acc: 0.6500\n",
      "Epoch 10/100\n",
      " - 0s - loss: 0.6090 - acc: 0.6613 - val_loss: 0.6110 - val_acc: 0.6750\n",
      "Epoch 11/100\n",
      " - 0s - loss: 0.6050 - acc: 0.6938 - val_loss: 0.6070 - val_acc: 0.6750\n",
      "Epoch 12/100\n",
      " - 0s - loss: 0.6013 - acc: 0.7012 - val_loss: 0.6031 - val_acc: 0.6750\n",
      "Epoch 13/100\n",
      " - 0s - loss: 0.5977 - acc: 0.7062 - val_loss: 0.5994 - val_acc: 0.6800\n",
      "Epoch 14/100\n",
      " - 0s - loss: 0.5941 - acc: 0.7175 - val_loss: 0.5958 - val_acc: 0.6800\n",
      "Epoch 15/100\n",
      " - 0s - loss: 0.5908 - acc: 0.7250 - val_loss: 0.5923 - val_acc: 0.6900\n",
      "Epoch 16/100\n",
      " - 0s - loss: 0.5875 - acc: 0.7288 - val_loss: 0.5890 - val_acc: 0.7000\n",
      "Epoch 17/100\n",
      " - 0s - loss: 0.5844 - acc: 0.7337 - val_loss: 0.5857 - val_acc: 0.7150\n",
      "Epoch 18/100\n",
      " - 0s - loss: 0.5812 - acc: 0.7387 - val_loss: 0.5825 - val_acc: 0.7200\n",
      "Epoch 19/100\n",
      " - 0s - loss: 0.5783 - acc: 0.7413 - val_loss: 0.5793 - val_acc: 0.7400\n",
      "Epoch 20/100\n",
      " - 0s - loss: 0.5753 - acc: 0.7437 - val_loss: 0.5763 - val_acc: 0.7550\n",
      "Epoch 21/100\n",
      " - 0s - loss: 0.5724 - acc: 0.7500 - val_loss: 0.5733 - val_acc: 0.7600\n",
      "Epoch 22/100\n",
      " - 0s - loss: 0.5696 - acc: 0.7562 - val_loss: 0.5703 - val_acc: 0.7750\n",
      "Epoch 23/100\n",
      " - 0s - loss: 0.5667 - acc: 0.7725 - val_loss: 0.5674 - val_acc: 0.8100\n",
      "Epoch 24/100\n",
      " - 0s - loss: 0.5641 - acc: 0.7762 - val_loss: 0.5645 - val_acc: 0.8250\n",
      "Epoch 25/100\n",
      " - 0s - loss: 0.5613 - acc: 0.7937 - val_loss: 0.5617 - val_acc: 0.8350\n",
      "Epoch 26/100\n",
      " - 0s - loss: 0.5586 - acc: 0.8000 - val_loss: 0.5589 - val_acc: 0.8350\n",
      "Epoch 27/100\n",
      " - 0s - loss: 0.5559 - acc: 0.8050 - val_loss: 0.5561 - val_acc: 0.8450\n",
      "Epoch 28/100\n",
      " - 0s - loss: 0.5533 - acc: 0.8112 - val_loss: 0.5534 - val_acc: 0.8550\n",
      "Epoch 29/100\n",
      " - 0s - loss: 0.5508 - acc: 0.8175 - val_loss: 0.5506 - val_acc: 0.8650\n",
      "Epoch 30/100\n",
      " - 0s - loss: 0.5481 - acc: 0.8375 - val_loss: 0.5480 - val_acc: 0.8750\n",
      "Epoch 31/100\n",
      " - 0s - loss: 0.5456 - acc: 0.8425 - val_loss: 0.5453 - val_acc: 0.8750\n",
      "Epoch 32/100\n",
      " - 0s - loss: 0.5430 - acc: 0.8438 - val_loss: 0.5427 - val_acc: 0.8750\n",
      "Epoch 33/100\n",
      " - 0s - loss: 0.5405 - acc: 0.8450 - val_loss: 0.5400 - val_acc: 0.8800\n",
      "Epoch 34/100\n",
      " - 0s - loss: 0.5380 - acc: 0.8450 - val_loss: 0.5374 - val_acc: 0.8800\n",
      "Epoch 35/100\n",
      " - 0s - loss: 0.5355 - acc: 0.8462 - val_loss: 0.5349 - val_acc: 0.8800\n",
      "Epoch 36/100\n",
      " - 0s - loss: 0.5330 - acc: 0.8575 - val_loss: 0.5323 - val_acc: 0.9000\n",
      "Epoch 37/100\n",
      " - 0s - loss: 0.5306 - acc: 0.8875 - val_loss: 0.5298 - val_acc: 0.9150\n",
      "Epoch 38/100\n",
      " - 0s - loss: 0.5281 - acc: 0.8988 - val_loss: 0.5273 - val_acc: 0.9300\n",
      "Epoch 39/100\n",
      " - 0s - loss: 0.5258 - acc: 0.9075 - val_loss: 0.5248 - val_acc: 0.9300\n",
      "Epoch 40/100\n",
      " - 0s - loss: 0.5233 - acc: 0.9138 - val_loss: 0.5223 - val_acc: 0.9300\n",
      "Epoch 41/100\n",
      " - 0s - loss: 0.5209 - acc: 0.9188 - val_loss: 0.5199 - val_acc: 0.9300\n",
      "Epoch 42/100\n",
      " - 0s - loss: 0.5186 - acc: 0.9225 - val_loss: 0.5174 - val_acc: 0.9350\n",
      "Epoch 43/100\n",
      " - 0s - loss: 0.5163 - acc: 0.9287 - val_loss: 0.5150 - val_acc: 0.9350\n",
      "Epoch 44/100\n",
      " - 0s - loss: 0.5139 - acc: 0.9300 - val_loss: 0.5127 - val_acc: 0.9400\n",
      "Epoch 45/100\n",
      " - 0s - loss: 0.5116 - acc: 0.9325 - val_loss: 0.5103 - val_acc: 0.9450\n",
      "Epoch 46/100\n",
      " - 0s - loss: 0.5093 - acc: 0.9363 - val_loss: 0.5080 - val_acc: 0.9450\n",
      "Epoch 47/100\n",
      " - 0s - loss: 0.5071 - acc: 0.9400 - val_loss: 0.5056 - val_acc: 0.9450\n",
      "Epoch 48/100\n",
      " - 0s - loss: 0.5048 - acc: 0.9425 - val_loss: 0.5033 - val_acc: 0.9550\n",
      "Epoch 49/100\n",
      " - 0s - loss: 0.5025 - acc: 0.9450 - val_loss: 0.5011 - val_acc: 0.9600\n",
      "Epoch 50/100\n",
      " - 0s - loss: 0.5003 - acc: 0.9475 - val_loss: 0.4988 - val_acc: 0.9600\n",
      "Epoch 51/100\n",
      " - 0s - loss: 0.4981 - acc: 0.9500 - val_loss: 0.4966 - val_acc: 0.9700\n",
      "Epoch 52/100\n",
      " - 0s - loss: 0.4959 - acc: 0.9575 - val_loss: 0.4944 - val_acc: 0.9700\n",
      "Epoch 53/100\n",
      " - 0s - loss: 0.4938 - acc: 0.9663 - val_loss: 0.4922 - val_acc: 0.9700\n",
      "Epoch 54/100\n",
      " - 0s - loss: 0.4916 - acc: 0.9713 - val_loss: 0.4900 - val_acc: 0.9800\n",
      "Epoch 55/100\n",
      " - 0s - loss: 0.4895 - acc: 0.9763 - val_loss: 0.4878 - val_acc: 0.9850\n",
      "Epoch 56/100\n",
      " - 0s - loss: 0.4873 - acc: 0.9800 - val_loss: 0.4857 - val_acc: 0.9850\n",
      "Epoch 57/100\n",
      " - 0s - loss: 0.4852 - acc: 0.9838 - val_loss: 0.4835 - val_acc: 0.9900\n",
      "Epoch 58/100\n",
      " - 0s - loss: 0.4831 - acc: 0.9875 - val_loss: 0.4814 - val_acc: 0.9900\n",
      "Epoch 59/100\n",
      " - 0s - loss: 0.4811 - acc: 0.9913 - val_loss: 0.4793 - val_acc: 0.9950\n",
      "Epoch 60/100\n",
      " - 0s - loss: 0.4790 - acc: 0.9963 - val_loss: 0.4773 - val_acc: 0.9950\n",
      "Epoch 61/100\n",
      " - 0s - loss: 0.4769 - acc: 0.9988 - val_loss: 0.4752 - val_acc: 1.0000\n",
      "Epoch 62/100\n",
      " - 0s - loss: 0.4749 - acc: 0.9988 - val_loss: 0.4732 - val_acc: 1.0000\n",
      "Epoch 63/100\n",
      " - 0s - loss: 0.4729 - acc: 1.0000 - val_loss: 0.4712 - val_acc: 1.0000\n",
      "Epoch 64/100\n",
      " - 0s - loss: 0.4709 - acc: 1.0000 - val_loss: 0.4692 - val_acc: 1.0000\n",
      "Epoch 65/100\n",
      " - 0s - loss: 0.4689 - acc: 1.0000 - val_loss: 0.4672 - val_acc: 1.0000\n",
      "Epoch 66/100\n",
      " - 0s - loss: 0.4669 - acc: 1.0000 - val_loss: 0.4652 - val_acc: 1.0000\n",
      "Epoch 67/100\n",
      " - 0s - loss: 0.4649 - acc: 1.0000 - val_loss: 0.4633 - val_acc: 1.0000\n",
      "Epoch 68/100\n",
      " - 0s - loss: 0.4630 - acc: 1.0000 - val_loss: 0.4613 - val_acc: 1.0000\n",
      "Epoch 69/100\n",
      " - 0s - loss: 0.4611 - acc: 1.0000 - val_loss: 0.4594 - val_acc: 1.0000\n",
      "Epoch 70/100\n",
      " - 0s - loss: 0.4592 - acc: 1.0000 - val_loss: 0.4575 - val_acc: 1.0000\n",
      "Epoch 71/100\n",
      " - 0s - loss: 0.4572 - acc: 1.0000 - val_loss: 0.4556 - val_acc: 1.0000\n",
      "Epoch 72/100\n",
      " - 0s - loss: 0.4553 - acc: 1.0000 - val_loss: 0.4537 - val_acc: 1.0000\n",
      "Epoch 73/100\n",
      " - 0s - loss: 0.4535 - acc: 1.0000 - val_loss: 0.4519 - val_acc: 1.0000\n",
      "Epoch 74/100\n",
      " - 0s - loss: 0.4516 - acc: 1.0000 - val_loss: 0.4500 - val_acc: 1.0000\n",
      "Epoch 75/100\n",
      " - 0s - loss: 0.4497 - acc: 1.0000 - val_loss: 0.4482 - val_acc: 1.0000\n",
      "Epoch 76/100\n",
      " - 0s - loss: 0.4479 - acc: 1.0000 - val_loss: 0.4464 - val_acc: 1.0000\n",
      "Epoch 77/100\n",
      " - 0s - loss: 0.4461 - acc: 1.0000 - val_loss: 0.4446 - val_acc: 1.0000\n",
      "Epoch 78/100\n",
      " - 0s - loss: 0.4443 - acc: 1.0000 - val_loss: 0.4428 - val_acc: 1.0000\n",
      "Epoch 79/100\n",
      " - 0s - loss: 0.4425 - acc: 1.0000 - val_loss: 0.4410 - val_acc: 1.0000\n",
      "Epoch 80/100\n",
      " - 0s - loss: 0.4407 - acc: 1.0000 - val_loss: 0.4393 - val_acc: 1.0000\n",
      "Epoch 81/100\n",
      " - 0s - loss: 0.4389 - acc: 1.0000 - val_loss: 0.4375 - val_acc: 1.0000\n",
      "Epoch 82/100\n",
      " - 0s - loss: 0.4371 - acc: 1.0000 - val_loss: 0.4358 - val_acc: 1.0000\n",
      "Epoch 83/100\n",
      " - 0s - loss: 0.4354 - acc: 1.0000 - val_loss: 0.4341 - val_acc: 1.0000\n",
      "Epoch 84/100\n",
      " - 0s - loss: 0.4336 - acc: 1.0000 - val_loss: 0.4323 - val_acc: 1.0000\n",
      "Epoch 85/100\n",
      " - 0s - loss: 0.4319 - acc: 1.0000 - val_loss: 0.4306 - val_acc: 1.0000\n",
      "Epoch 86/100\n",
      " - 0s - loss: 0.4302 - acc: 1.0000 - val_loss: 0.4290 - val_acc: 1.0000\n",
      "Epoch 87/100\n",
      " - 0s - loss: 0.4285 - acc: 1.0000 - val_loss: 0.4273 - val_acc: 1.0000\n",
      "Epoch 88/100\n",
      " - 0s - loss: 0.4268 - acc: 1.0000 - val_loss: 0.4257 - val_acc: 1.0000\n",
      "Epoch 89/100\n",
      " - 0s - loss: 0.4251 - acc: 1.0000 - val_loss: 0.4240 - val_acc: 1.0000\n",
      "Epoch 90/100\n",
      " - 0s - loss: 0.4234 - acc: 1.0000 - val_loss: 0.4224 - val_acc: 1.0000\n",
      "Epoch 91/100\n",
      " - 0s - loss: 0.4217 - acc: 1.0000 - val_loss: 0.4208 - val_acc: 1.0000\n",
      "Epoch 92/100\n",
      " - 0s - loss: 0.4201 - acc: 1.0000 - val_loss: 0.4192 - val_acc: 1.0000\n",
      "Epoch 93/100\n",
      " - 0s - loss: 0.4185 - acc: 1.0000 - val_loss: 0.4176 - val_acc: 1.0000\n",
      "Epoch 94/100\n",
      " - 0s - loss: 0.4168 - acc: 1.0000 - val_loss: 0.4160 - val_acc: 1.0000\n",
      "Epoch 95/100\n",
      " - 0s - loss: 0.4152 - acc: 1.0000 - val_loss: 0.4144 - val_acc: 1.0000\n",
      "Epoch 96/100\n",
      " - 0s - loss: 0.4136 - acc: 1.0000 - val_loss: 0.4128 - val_acc: 1.0000\n"
     ]
    },
    {
     "name": "stdout",
     "output_type": "stream",
     "text": [
      "Epoch 97/100\n",
      " - 0s - loss: 0.4120 - acc: 1.0000 - val_loss: 0.4113 - val_acc: 1.0000\n",
      "Epoch 98/100\n",
      " - 0s - loss: 0.4104 - acc: 1.0000 - val_loss: 0.4097 - val_acc: 1.0000\n",
      "Epoch 99/100\n",
      " - 0s - loss: 0.4089 - acc: 1.0000 - val_loss: 0.4082 - val_acc: 1.0000\n",
      "Epoch 100/100\n",
      " - 0s - loss: 0.4073 - acc: 1.0000 - val_loss: 0.4066 - val_acc: 1.0000\n"
     ]
    }
   ],
   "source": [
    "\n",
    "hist = model.fit(X_train, y_train, nb_epoch=100,batch_size=100,verbose=2, shuffle=True ,validation_data=(X_test, y_test))"
   ]
  },
  {
   "cell_type": "code",
   "execution_count": null,
   "metadata": {},
   "outputs": [],
   "source": []
  },
  {
   "cell_type": "code",
   "execution_count": null,
   "metadata": {},
   "outputs": [],
   "source": []
  }
 ],
 "metadata": {
  "kernelspec": {
   "display_name": "Python 3",
   "language": "python",
   "name": "python3"
  },
  "language_info": {
   "codemirror_mode": {
    "name": "ipython",
    "version": 3
   },
   "file_extension": ".py",
   "mimetype": "text/x-python",
   "name": "python",
   "nbconvert_exporter": "python",
   "pygments_lexer": "ipython3",
   "version": "3.6.3"
  }
 },
 "nbformat": 4,
 "nbformat_minor": 2
}
