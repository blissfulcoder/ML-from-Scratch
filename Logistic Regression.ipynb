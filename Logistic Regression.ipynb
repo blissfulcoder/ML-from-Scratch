{
 "cells": [
  {
   "cell_type": "code",
   "execution_count": 6,
   "metadata": {},
   "outputs": [],
   "source": [
    "import numpy as np\n",
    "import matplotlib.pyplot as plt\n",
    "%matplotlib inline"
   ]
  },
  {
   "cell_type": "code",
   "execution_count": 7,
   "metadata": {},
   "outputs": [
    {
     "name": "stdout",
     "output_type": "stream",
     "text": [
      "(500L, 2L) (500L, 2L)\n"
     ]
    }
   ],
   "source": [
    "mean_01 = np.array([1.0, 0.5])\n",
    "mean_02 = np.array([4.0, 5.2])\n",
    "\n",
    "cov_01 = np.array([[1.0,0.1], [0.1, 1.0]])\n",
    "cov_02 = np.array([[1.0,0.1], [0.1, 1.2]])\n",
    "\n",
    "dist_01 = np.random.multivariate_normal(mean_01, cov_01, 500)\n",
    "dist_02 = np.random.multivariate_normal(mean_02, cov_02, 500)\n",
    "\n",
    "print dist_01.shape, dist_02.shape"
   ]
  },
  {
   "cell_type": "code",
   "execution_count": 8,
   "metadata": {},
   "outputs": [
    {
     "name": "stdout",
     "output_type": "stream",
     "text": [
      "(1000L, 3L)\n",
      "(1000L, 3L)\n"
     ]
    }
   ],
   "source": [
    "rows = dist_01.shape[0] + dist_02.shape[0]\n",
    "cols = dist_01.shape[1] + 1\n",
    "\n",
    "data = np.zeros((rows, cols))\n",
    "print data.shape\n",
    "\n",
    "data[:dist_01.shape[0], :2] = dist_01\n",
    "data[dist_01.shape[0]:, :2] = dist_02\n",
    "data[dist_01.shape[0]:, -1] += 1.0\n",
    "\n",
    "print data.shape"
   ]
  },
  {
   "cell_type": "code",
   "execution_count": 9,
   "metadata": {},
   "outputs": [
    {
     "name": "stdout",
     "output_type": "stream",
     "text": [
      "[[1.54828774 1.10770774 0.        ]\n",
      " [1.14227224 0.80244732 0.        ]\n",
      " [5.44785131 4.29354392 1.        ]\n",
      " [1.95659358 5.34555665 1.        ]\n",
      " [3.52825976 4.97290372 1.        ]\n",
      " [5.96197976 8.01108737 1.        ]\n",
      " [3.51363579 4.38318383 1.        ]\n",
      " [4.21219733 4.82733232 1.        ]\n",
      " [1.34500555 0.84235146 0.        ]\n",
      " [2.92234989 3.89003592 1.        ]]\n"
     ]
    }
   ],
   "source": [
    "np.random.shuffle(data)\n",
    "\n",
    "print data[:10]"
   ]
  },
  {
   "cell_type": "code",
   "execution_count": 10,
   "metadata": {},
   "outputs": [
    {
     "name": "stdout",
     "output_type": "stream",
     "text": [
      "(650L, 2L) (650L,)\n",
      "(350L, 2L) (350L,)\n"
     ]
    }
   ],
   "source": [
    "split = int(0.65*data.shape[0])\n",
    "\n",
    "X_train = data[:split, :2]\n",
    "X_test = data[split:, :2]\n",
    "\n",
    "y_train = data[:split, -1]\n",
    "y_test = data[split:, -1]\n",
    "\n",
    "print X_train.shape, y_train.shape\n",
    "print X_test.shape, y_test.shape"
   ]
  },
  {
   "cell_type": "code",
   "execution_count": null,
   "metadata": {},
   "outputs": [],
   "source": []
  }
 ],
 "metadata": {
  "kernelspec": {
   "display_name": "Python 2",
   "language": "python",
   "name": "python2"
  },
  "language_info": {
   "codemirror_mode": {
    "name": "ipython",
    "version": 2
   },
   "file_extension": ".py",
   "mimetype": "text/x-python",
   "name": "python",
   "nbconvert_exporter": "python",
   "pygments_lexer": "ipython2",
   "version": "2.7.14"
  }
 },
 "nbformat": 4,
 "nbformat_minor": 2
}
