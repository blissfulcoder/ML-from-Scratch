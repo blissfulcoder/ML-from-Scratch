{
 "cells": [
  {
   "cell_type": "code",
   "execution_count": 1,
   "metadata": {},
   "outputs": [],
   "source": [
    "import numpy as np\n",
    "import matplotlib.pyplot as plt\n",
    "%matplotlib inline"
   ]
  },
  {
   "cell_type": "code",
   "execution_count": 3,
   "metadata": {},
   "outputs": [
    {
     "name": "stdout",
     "output_type": "stream",
     "text": [
      "(500, 2) (500, 2)\n"
     ]
    }
   ],
   "source": [
    "mean_01 = np.array([1.0,0.5])\n",
    "mean_02 = np.array([4.0,5.2])\n",
    "\n",
    "cov_01 = np.array([[1.0,0.1], [0.1,1.0]])\n",
    "cov_02 = np.array([[1.0,0.1], [0.1,1.2]])\n",
    "\n",
    "dist_01 = np.random.multivariate_normal(mean_01, cov_01, 500)\n",
    "dist_02 = np.random.multivariate_normal(mean_02, cov_02, 500)\n",
    "\n",
    "print (dist_01.shape, dist_02.shape)"
   ]
  },
  {
   "cell_type": "code",
   "execution_count": 7,
   "metadata": {},
   "outputs": [
    {
     "name": "stdout",
     "output_type": "stream",
     "text": [
      "(1000, 3)\n",
      "(1000, 3)\n"
     ]
    }
   ],
   "source": [
    "rows = dist_01.shape[0]+ dist_02.shape[0]\n",
    "cols = dist_01.shape[1]+1\n",
    "\n",
    "data = np.zeros((rows,cols))\n",
    "print(data.shape) \n",
    "\n",
    "data[:dist_01.shape[0], :2] = dist_01\n",
    "data[dist_01.shape[0]:, :2] = dist_02\n",
    "data[dist_01.shape[0]:,-1] += 1.0\n",
    "\n",
    "print (data.shape)"
   ]
  },
  {
   "cell_type": "code",
   "execution_count": 9,
   "metadata": {},
   "outputs": [
    {
     "name": "stdout",
     "output_type": "stream",
     "text": [
      "[[ 1.65687169 -0.51512296  0.        ]\n",
      " [ 4.06472726  6.39574717  1.        ]\n",
      " [ 1.48302128 -0.42342916  0.        ]\n",
      " [ 3.38617195  6.50863388  1.        ]\n",
      " [ 4.13066076  4.54586729  1.        ]\n",
      " [ 1.53627219  0.12760748  0.        ]\n",
      " [ 2.07041636  1.34726988  0.        ]\n",
      " [ 0.21533454  0.13495204  0.        ]\n",
      " [ 3.84022393  4.33489618  1.        ]\n",
      " [ 0.08384456  2.31213718  0.        ]]\n"
     ]
    }
   ],
   "source": [
    "np.random.shuffle(data)\n",
    "\n",
    "print (data[:10])"
   ]
  },
  {
   "cell_type": "code",
   "execution_count": 11,
   "metadata": {},
   "outputs": [
    {
     "name": "stdout",
     "output_type": "stream",
     "text": [
      "(800, 2) (800,)\n",
      "(200, 2) (200,)\n"
     ]
    }
   ],
   "source": [
    "split = int(0.8 * data.shape[0])\n",
    "\n",
    "X_train = data[:split, :2]\n",
    "X_test = data[split:, :2]\n",
    "\n",
    "y_train = data[:split, -1]\n",
    "y_test = data[split:, -1]\n",
    "\n",
    "print (X_train.shape, y_train.shape)\n",
    "print (X_test.shape, y_test.shape)"
   ]
  },
  {
   "cell_type": "code",
   "execution_count": 14,
   "metadata": {},
   "outputs": [],
   "source": [
    "### Function\n",
    "def sigmoid(z):\n",
    "    return 1.0/(1+np.exp(-1*z))\n",
    "\n",
    "def hypo(x, w, b):###writing generic hypthesis..\n",
    "    h = (x*w).sum() + b\n",
    "    return sigmoid(h)\n",
    "\n",
    "# Binary CrossEntropy :-\n",
    "def get_error(x, w, y_true, b):\n",
    "    pass\n",
    "    "
   ]
  },
  {
   "cell_type": "code",
   "execution_count": 16,
   "metadata": {},
   "outputs": [],
   "source": [
    "def get_gradients(x, w, y_true, b):\n",
    "    pass"
   ]
  },
  {
   "cell_type": "code",
   "execution_count": 17,
   "metadata": {},
   "outputs": [],
   "source": [
    "def gradient_ascent(x, w, y_true, b, learning_rate=0.01):\n",
    "    pass"
   ]
  },
  {
   "cell_type": "code",
   "execution_count": null,
   "metadata": {},
   "outputs": [],
   "source": []
  }
 ],
 "metadata": {
  "kernelspec": {
   "display_name": "Python 3",
   "language": "python",
   "name": "python3"
  },
  "language_info": {
   "codemirror_mode": {
    "name": "ipython",
    "version": 3
   },
   "file_extension": ".py",
   "mimetype": "text/x-python",
   "name": "python",
   "nbconvert_exporter": "python",
   "pygments_lexer": "ipython3",
   "version": "3.6.3"
  }
 },
 "nbformat": 4,
 "nbformat_minor": 2
}
