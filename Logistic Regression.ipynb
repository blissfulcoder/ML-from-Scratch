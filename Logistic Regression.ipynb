{
 "cells": [
  {
   "cell_type": "code",
   "execution_count": 1,
   "metadata": {},
   "outputs": [],
   "source": [
    "import numpy as np\n",
    "import matplotlib.pyplot as plt\n",
    "%matplotlib inline"
   ]
  },
  {
   "cell_type": "code",
   "execution_count": 2,
   "metadata": {},
   "outputs": [
    {
     "name": "stdout",
     "output_type": "stream",
     "text": [
      "(500, 2) (500, 2)\n"
     ]
    }
   ],
   "source": [
    "mean_01 = np.array([1.0,0.5])\n",
    "mean_02 = np.array([4.0,5.2])\n",
    "\n",
    "cov_01 = np.array([[1.0,0.1], [0.1,1.0]])\n",
    "cov_02 = np.array([[1.0,0.1], [0.1,1.2]])\n",
    "\n",
    "dist_01 = np.random.multivariate_normal(mean_01, cov_01, 500)\n",
    "dist_02 = np.random.multivariate_normal(mean_02, cov_02, 500)\n",
    "\n",
    "print (dist_01.shape, dist_02.shape)"
   ]
  },
  {
   "cell_type": "code",
   "execution_count": 3,
   "metadata": {},
   "outputs": [
    {
     "name": "stdout",
     "output_type": "stream",
     "text": [
      "(1000, 3)\n",
      "(1000, 3)\n"
     ]
    }
   ],
   "source": [
    "rows = dist_01.shape[0]+ dist_02.shape[0]\n",
    "cols = dist_01.shape[1]+1\n",
    "\n",
    "data = np.zeros((rows,cols))\n",
    "print(data.shape) \n",
    "\n",
    "data[:dist_01.shape[0], :2] = dist_01\n",
    "data[dist_01.shape[0]:, :2] = dist_02\n",
    "data[dist_01.shape[0]:,-1] += 1.0\n",
    "\n",
    "print (data.shape)"
   ]
  },
  {
   "cell_type": "code",
   "execution_count": 4,
   "metadata": {},
   "outputs": [
    {
     "name": "stdout",
     "output_type": "stream",
     "text": [
      "[[ 0.37743825  0.6612625   0.        ]\n",
      " [ 2.07074074  0.45814287  0.        ]\n",
      " [ 4.56668021  5.4814592   1.        ]\n",
      " [-1.47840693 -0.3438653   0.        ]\n",
      " [ 4.27813848  6.58479742  1.        ]\n",
      " [ 4.05758384  4.10355081  1.        ]\n",
      " [ 1.6167932   0.77437165  0.        ]\n",
      " [ 1.93372478  0.40595436  0.        ]\n",
      " [ 2.00142748  1.64069181  0.        ]\n",
      " [ 4.00618407  5.14474362  1.        ]]\n"
     ]
    }
   ],
   "source": [
    "np.random.shuffle(data)\n",
    "\n",
    "print (data[:10])"
   ]
  },
  {
   "cell_type": "code",
   "execution_count": 5,
   "metadata": {},
   "outputs": [
    {
     "name": "stdout",
     "output_type": "stream",
     "text": [
      "(650, 2) (650,)\n",
      "(350, 2) (350,)\n"
     ]
    }
   ],
   "source": [
    "split = int(0.65* data.shape[0])\n",
    "\n",
    "X_train = data[:split, :2]\n",
    "X_test = data[split:, :2]\n",
    "\n",
    "y_train = data[:split, -1]\n",
    "y_test = data[split:, -1]\n",
    "\n",
    "print (X_train.shape, y_train.shape)\n",
    "print (X_test.shape, y_test.shape)"
   ]
  },
  {
   "cell_type": "code",
   "execution_count": 6,
   "metadata": {},
   "outputs": [],
   "source": [
    "### Function\n",
    "def sigmoid(z):\n",
    "    return 1.0/(1+np.exp(-1*z))\n",
    "\n",
    "def hypothesis(x, w, b):###writing generic hypthesis..\n",
    "    h = (x*w).sum() + b\n",
    "    return sigmoid(h)\n",
    "\n",
    "# Binary CrossEntropy :-\n",
    "def get_error(x, w, y_true, b):\n",
    "    err = 0.0\n",
    "    \n",
    "    m= x.shape[0]\n",
    "    for ix in range(m):\n",
    "        if y_true[ix] == 0:\n",
    "            err+= (np.log(1-hypothesis(x[ix], w, b)))\n",
    "        else:\n",
    "            err+= (np.log(hypothesis(x[ix],w,b)))\n",
    "    err=err/m\n",
    "    return err  "
   ]
  },
  {
   "cell_type": "code",
   "execution_count": 7,
   "metadata": {},
   "outputs": [],
   "source": [
    "def get_gradients(x, w, y_true, b):\n",
    "    grad_w = np.zeros(w.shape[0]) # wrt weight\n",
    "    grad_b = 0.0 # wrt bias\n",
    "    \n",
    "    m = x.shape[0]\n",
    "    \n",
    "    for ix in range(m):\n",
    "        grad_w += (y_true[ix] - hypothesis(x[ix], w, b))*(-1*x[ix])\n",
    "        grad_b += (y_true[ix] - hypothesis(x[ix], w, b))*(-1)\n",
    "        \n",
    "    grad_w = grad_w/m\n",
    "    grad_b = grad_b/m\n",
    "    \n",
    "    return [grad_w, grad_b]"
   ]
  },
  {
   "cell_type": "code",
   "execution_count": 8,
   "metadata": {},
   "outputs": [],
   "source": [
    "def optimizer(x, w, y_true, b, learning_rate=0.01):\n",
    "    error = get_error(x,w, y_true,b) #just for plotting purpose\n",
    "    [grad_w, grad_b] = get_gradients(x, w, y_true, b)\n",
    "    \n",
    "    w=w-learning_rate*grad_w\n",
    "    b=b-learning_rate*grad_b\n",
    "    \n",
    "    return error, w, b"
   ]
  },
  {
   "cell_type": "code",
   "execution_count": 9,
   "metadata": {},
   "outputs": [],
   "source": [
    "def predict(x_sample, w, b):\n",
    "    conf = hypothesis(x_sample, w, b)\n",
    "    if conf>0.5:\n",
    "        return 1\n",
    "    else:\n",
    "        return 0\n",
    "\n",
    "def get_accuracy(x_test, y_test, w ,b):\n",
    "    y_pred = []\n",
    "    for ix in range(x_test.shape[0]):\n",
    "        y_pred.append(predict(x_test[ix], w, b))\n",
    "    y_pred = np.asarray(y_pred)\n",
    "    \n",
    "    return float((y_pred==y_test)).sum()/y_test.shape[0]"
   ]
  },
  {
   "cell_type": "code",
   "execution_count": 10,
   "metadata": {},
   "outputs": [],
   "source": [
    "### re write yesterday fn and calculate gd again and again... and keep calculating, and plotting errors..\n",
    "loss = []\n",
    "W = np.array([0.5,0.5])\n",
    "b = 4.21\n",
    "n_iters = 150\n",
    "for ix in range(n_iters):\n",
    "\n",
    "    err, W, b = optimizer(X_train, W, y_train, b, learning_rate=0.01)\n",
    "    loss.append(err)\n",
    "    \n",
    "#plt.plot(loss)\n",
    "#plt.show()"
   ]
  },
  {
   "cell_type": "code",
   "execution_count": 11,
   "metadata": {},
   "outputs": [],
   "source": [
    "from sklearn.linear_model import LogisticRegression"
   ]
  },
  {
   "cell_type": "code",
   "execution_count": 12,
   "metadata": {},
   "outputs": [
    {
     "data": {
      "text/plain": [
       "LogisticRegression(C=1.0, class_weight=None, dual=False, fit_intercept=True,\n",
       "          intercept_scaling=1, max_iter=100, multi_class='ovr', n_jobs=1,\n",
       "          penalty='l2', random_state=None, solver='liblinear', tol=0.0001,\n",
       "          verbose=0, warm_start=False)"
      ]
     },
     "execution_count": 12,
     "metadata": {},
     "output_type": "execute_result"
    }
   ],
   "source": [
    "lr = LogisticRegression()\n",
    "lr.fit(X_train, y_train)"
   ]
  },
  {
   "cell_type": "code",
   "execution_count": 13,
   "metadata": {},
   "outputs": [
    {
     "data": {
      "text/plain": [
       "0.9942857142857143"
      ]
     },
     "execution_count": 13,
     "metadata": {},
     "output_type": "execute_result"
    }
   ],
   "source": [
    "lr.score(X_test, y_test)"
   ]
  },
  {
   "cell_type": "code",
   "execution_count": null,
   "metadata": {},
   "outputs": [],
   "source": []
  }
 ],
 "metadata": {
  "kernelspec": {
   "display_name": "Python 3",
   "language": "python",
   "name": "python3"
  },
  "language_info": {
   "codemirror_mode": {
    "name": "ipython",
    "version": 3
   },
   "file_extension": ".py",
   "mimetype": "text/x-python",
   "name": "python",
   "nbconvert_exporter": "python",
   "pygments_lexer": "ipython3",
   "version": "3.6.3"
  }
 },
 "nbformat": 4,
 "nbformat_minor": 2
}
